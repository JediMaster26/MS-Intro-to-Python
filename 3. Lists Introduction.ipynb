{
 "cells": [
  {
   "cell_type": "code",
   "execution_count": 3,
   "metadata": {},
   "outputs": [
    {
     "name": "stdout",
     "output_type": "stream",
     "text": [
      "type of object man_utd_managers is:  <class 'list'> \n",
      "\n",
      "['Jose Morinho', 'Louis Van Gaal', 'Ryan Giggs', 'David MoyesSir Alex Ferguson', 'Ron Atkinson']\n",
      "[['Jose Morinho', 'Louis Van Gaal', 'Ryan Giggs', 'David MoyesSir Alex Ferguson', 'Ron Atkinson'], '27-mar-2016', '19-may-2014', '22-apr-2014', '19-may-2013', '06-nov-1986', '01-jun-1981']\n"
     ]
    }
   ],
   "source": [
    "# [ ] create team_names list and populate with 3-5 team name strings\n",
    "\n",
    "# [ ] print the list\n",
    "man_utd_managers = ['Jose Morinho','Louis Van Gaal','Ryan Giggs','David Moyes''Sir Alex Ferguson','Ron Atkinson']\n",
    "print(\"type of object man_utd_managers is: \", type(man_utd_managers),\"\\n\")\n",
    "print(man_utd_managers)\n",
    "# [ ] Create a list mix_list with numbers and strings with 4-6 items\n",
    "\n",
    "# [ ] print the list\n",
    "manutd_mgr_terms = [man_utd_managers, '27-mar-2016','19-may-2014','22-apr-2014','19-may-2013','06-nov-1986','01-jun-1981']\n",
    "print(manutd_mgr_terms)\n",
    "\n"
   ]
  },
  {
   "cell_type": "code",
   "execution_count": 8,
   "metadata": {},
   "outputs": [
    {
     "name": "stdout",
     "output_type": "stream",
     "text": [
      "['calcaneus', 'talus', 'cuboid', 'navicular', 'lateral cuneiform', 'intermediate cuneiform', 'medial cuneiform']\n",
      "[12, 14, 12, 29, 12, 14, 12, 12, 13, 12, 14, 13, 13, 46, 13, 12, 12, 13, 13, 12, 12] <class 'list'>\n"
     ]
    }
   ],
   "source": [
    "ft_bones = [\"calcaneus\", \"talus\", \"cuboid\", \"navicular\", \"lateral cuneiform\", \"intermediate cuneiform\", \"medial cuneiform\"]\n",
    "print(ft_bones)\n",
    "age_survey = [12, 14, 12, 29, 12, 14, 12, 12, 13, 12, 14, 13, 13, 46, 13, 12, 12, 13, 13, 12, 12]\n",
    "print(age_survey, type(age_survey))"
   ]
  },
  {
   "cell_type": "code",
   "execution_count": 13,
   "metadata": {},
   "outputs": [
    {
     "name": "stdout",
     "output_type": "stream",
     "text": [
      "calcaneus is the 1st bone on the list\n",
      "medial cuneiform is the 1st bone on the list\n",
      "talus is connected to the navicular\n",
      "Calcaneus\n"
     ]
    }
   ],
   "source": [
    "print(ft_bones[0], \"is the 1st bone on the list\")\n",
    "print(ft_bones[-1], \"is the 1st bone on the list\")\n",
    "print(ft_bones[1], \"is connected to the\",ft_bones[3])\n",
    "print(ft_bones[0].title())"
   ]
  },
  {
   "cell_type": "code",
   "execution_count": 15,
   "metadata": {},
   "outputs": [
    {
     "name": "stdout",
     "output_type": "stream",
     "text": [
      "No Parking on :Great North Road and Fairview Road\n"
     ]
    }
   ],
   "source": [
    "# [ ] Create a list, streets, that lists the name of 5 street name strings\n",
    "\n",
    "# [ ] print a message that there is \"No Parking\" on index 0 or index 4 streets\n",
    "streets = ['Great North Road','High Street','Bridge Street','Buckingham Palace Road','Fairview Road']\n",
    "print(\"No Parking on :\"+streets[0]+\" and \"+streets[4])"
   ]
  },
  {
   "cell_type": "code",
   "execution_count": 17,
   "metadata": {},
   "outputs": [
    {
     "name": "stdout",
     "output_type": "stream",
     "text": [
      "sum of numbers in : [5, 15, 23, 17, 19]  is   : 79\n"
     ]
    }
   ],
   "source": [
    "# [ ] Create a list, num_2_add, made of 5 different numbers between 0 - 25\n",
    "\n",
    "# [ ] print the sum of the numbers\n",
    "num_2_add = [5,15,23,17,19]\n",
    "sum_of_num_2_add = num_2_add[0]+num_2_add[1]+num_2_add[2]+num_2_add[3]+num_2_add[4]\n",
    "print(\"sum of numbers in :\",num_2_add,\" is   :\",sum_of_num_2_add)"
   ]
  },
  {
   "cell_type": "code",
   "execution_count": 20,
   "metadata": {},
   "outputs": [
    {
     "name": "stdout",
     "output_type": "stream",
     "text": [
      " Total of checks 3 & 4 = $ 22222\n"
     ]
    }
   ],
   "source": [
    "# [ ] Review & Run, but ***Do Not Edit*** this code cell\n",
    "# [ ] Fix the error by only editing and running the block below\n",
    "\n",
    "pay_checks = [5000,3500,9875,12347,8934]\n",
    "print(\" Total of checks 3 & 4 = $\", pay_checks[2] + pay_checks[3])"
   ]
  },
  {
   "cell_type": "code",
   "execution_count": 23,
   "metadata": {},
   "outputs": [
    {
     "name": "stdout",
     "output_type": "stream",
     "text": [
      "[1, 'cat', 'Dogs']\n"
     ]
    }
   ],
   "source": [
    "mixed_types = [1, \"cat\"]\n",
    "mixed_types.append(\"Dogs\")\n",
    "print(mixed_types)"
   ]
  },
  {
   "cell_type": "code",
   "execution_count": 26,
   "metadata": {},
   "outputs": [
    {
     "name": "stdout",
     "output_type": "stream",
     "text": [
      "['Jose Morinho', 'Louis Van Gaal', 'Ryan Giggs', 'David MoyesSir Alex Ferguson', 'Ron Atkinson', 'Dave Sexton']\n",
      "enter a nameTommy Doherty\n",
      "['Jose Morinho', 'Louis Van Gaal', 'Ryan Giggs', 'David MoyesSir Alex Ferguson', 'Ron Atkinson', 'Dave Sexton', 'Tommy Doherty']\n"
     ]
    }
   ],
   "source": [
    "# [ ] append additional values to the Currency Names list using input()\n",
    "\n",
    "# [ ] print the appended list\n",
    "print(man_utd_managers)\n",
    "new_name = input(\"enter a name\")\n",
    "man_utd_managers.append(new_name)\n",
    "print(man_utd_managers)"
   ]
  },
  {
   "cell_type": "code",
   "execution_count": 31,
   "metadata": {},
   "outputs": [
    {
     "name": "stdout",
     "output_type": "stream",
     "text": [
      "[]\n",
      "Enter your birth day of month.  To quit enter 'q'q\n",
      "[]\n"
     ]
    }
   ],
   "source": [
    "bday_survey = []\n",
    "print(bday_survey)\n",
    "\n",
    "bday = 0\n",
    "while bday != 'q':\n",
    "    bday = input(\"Enter your birth day of month.  To quit enter 'q'\")\n",
    "    if bday != 'q':\n",
    "        bday_survey.append(bday)\n",
    "    \n",
    "print(bday_survey)"
   ]
  },
  {
   "cell_type": "code",
   "execution_count": 35,
   "metadata": {},
   "outputs": [
    {
     "name": "stdout",
     "output_type": "stream",
     "text": [
      "single_digits[3]: three is <class 'str'>\n",
      "single_digits[3]: 3 is <class 'int'>\n"
     ]
    }
   ],
   "source": [
    "single_digits = [\"zero\",\"one\",\"two\",\"three\",\"four\",\"five\",\"six\",\"seven\",\"eight\",\"nine\"]\n",
    "print(\"single_digits[3]:\",single_digits[3],\"is\",type(single_digits[3]))\n",
    "\n",
    "single_digits[3] = 3\n",
    "print(\"single_digits[3]:\",single_digits[3],\"is\",type(single_digits[3]))"
   ]
  },
  {
   "cell_type": "code",
   "execution_count": 40,
   "metadata": {},
   "outputs": [
    {
     "name": "stdout",
     "output_type": "stream",
     "text": [
      "[7, 8, 9, 1]\n",
      "after: ['large', 8, 9, 1]\n"
     ]
    }
   ],
   "source": [
    "three_num = [7,8,9,1]\n",
    "print(three_num)\n",
    "if three_num[0] < 5:\n",
    "    print(\"small\")\n",
    "else:\n",
    "    three_num[0] = \"large\"\n",
    "    \n",
    "print(\"after:\", three_num)    "
   ]
  },
  {
   "cell_type": "code",
   "execution_count": 53,
   "metadata": {},
   "outputs": [
    {
     "name": "stdout",
     "output_type": "stream",
     "text": [
      "small\n"
     ]
    },
    {
     "data": {
      "text/plain": [
       "[3, 8, 9, 1]"
      ]
     },
     "execution_count": 53,
     "metadata": {},
     "output_type": "execute_result"
    }
   ],
   "source": [
    "# first funcion\n",
    "\n",
    "def str_replace(list, indx):\n",
    "    if list[indx] < 5:\n",
    "        print(\"small\")\n",
    "    else:\n",
    "        list[0] = \"large\"\n",
    "        \n",
    "    return list\n",
    "three_num = [3,8,9,1]\n",
    "str_replace(three_num,0)"
   ]
  },
  {
   "cell_type": "code",
   "execution_count": 56,
   "metadata": {},
   "outputs": [
    {
     "name": "stdout",
     "output_type": "stream",
     "text": [
      "party_list before:  ['Joana', 'Alton', 'Tobias']\n",
      "index 1 is Alton \n",
      "index 2 is Tobias \n",
      "\n",
      "party_list after:   ['Joana', 'Colette', 'Alton', 'Tobias']\n",
      "index 1 is Colette \n",
      "index 2 is Alton \n",
      "index 3 is Tobias\n",
      "party_list after:   ['Joana', 'tintin', 'Colette', 'Alton', 'Tobias']\n",
      "index 1 is tintin \n",
      "index 2 is Colette \n",
      "index 3 is Alton\n"
     ]
    }
   ],
   "source": [
    "party_list = [\"Joana\", \"Alton\", \"Tobias\"]\n",
    "print(\"party_list before: \", party_list)\n",
    "print(\"index 1 is\", party_list[1], \"\\nindex 2 is\", party_list[2], \"\\n\")\n",
    "party_list.insert(1,\"Colette\")\n",
    "print(\"party_list after:  \", party_list)\n",
    "print(\"index 1 is\", party_list[1], \"\\nindex 2 is\", party_list[2], \"\\nindex 3 is\", party_list[3])\n",
    "party_list.insert(1,\"tintin\")\n",
    "print(\"party_list after:  \", party_list)\n",
    "print(\"index 1 is\", party_list[1], \"\\nindex 2 is\", party_list[2], \"\\nindex 3 is\", party_list[3])"
   ]
  },
  {
   "cell_type": "code",
   "execution_count": 59,
   "metadata": {},
   "outputs": [
    {
     "name": "stdout",
     "output_type": "stream",
     "text": [
      "who do you want to be at the party ?, Enter N to quitN\n"
     ]
    }
   ],
   "source": [
    "# [ ] insert a name from user input into the party_list in the second position (index 1)\n",
    "\n",
    "party_list = [\"Joana\", \"Alton\", \"Tobias\"]\n",
    "\n",
    "invitee = \"Y\"\n",
    "\n",
    "while invitee != 'N':\n",
    "    invitee = input(\"who do you want to be at the party ?, Enter N to quit\")\n",
    "    if invitee != 'N':\n",
    "        party_list.insert(1,invitee)\n",
    "        print(party_list)\n",
    "        \n",
    "        "
   ]
  },
  {
   "cell_type": "code",
   "execution_count": 63,
   "metadata": {},
   "outputs": [
    {
     "name": "stdout",
     "output_type": "stream",
     "text": [
      "['Joana', 'Alton', 'Tobias']\n",
      "Hello, Tobias\n",
      "['Joana', 'Alton']\n"
     ]
    }
   ],
   "source": [
    "# [ ] review and run example\n",
    "# pop() gets the last item by default\n",
    "party_list = [\"Joana\", \"Alton\", \"Tobias\"]\n",
    "print(party_list)\n",
    "print(\"Hello,\", party_list.pop())\n",
    "print(party_list)"
   ]
  },
  {
   "cell_type": "code",
   "execution_count": 67,
   "metadata": {},
   "outputs": [
    {
     "name": "stdout",
     "output_type": "stream",
     "text": [
      "before pop : ['calcaneus', 'talus', 'cuboid', 'navicular', 'lateral cuneiform', 'intermediate cuneiform', 'medial cuneiform']\n",
      "after pop : ['talus', 'cuboid', 'navicular', 'lateral cuneiform', 'intermediate cuneiform']\n",
      "popped items are : calcaneus medial cuneiform\n"
     ]
    }
   ],
   "source": [
    "# [ ] pop() and print the first and last items from the ft_bones list\n",
    "ft_bones = [\"calcaneus\", \"talus\", \"cuboid\", \"navicular\", \"lateral cuneiform\", \n",
    "            \"intermediate cuneiform\", \"medial cuneiform\"]\n",
    "print('before pop :', ft_bones)\n",
    "\n",
    "pop_1 = ft_bones.pop(0)\n",
    "pop_last = ft_bones.pop()\n",
    "\n",
    "print(\"after pop :\", ft_bones)\n",
    "print(\"popped items are :\", pop_1, pop_last)"
   ]
  },
  {
   "cell_type": "code",
   "execution_count": 70,
   "metadata": {},
   "outputs": [
    {
     "name": "stdout",
     "output_type": "stream",
     "text": [
      "True\n",
      "False\n",
      "Null\n"
     ]
    }
   ],
   "source": [
    "# test for list in while loop\n",
    "check_list = ['True','False','Null']\n",
    "\n",
    "while check_list:\n",
    "    print(check_list.pop(0))"
   ]
  },
  {
   "cell_type": "code",
   "execution_count": 4,
   "metadata": {},
   "outputs": [
    {
     "name": "stdout",
     "output_type": "stream",
     "text": [
      "enter purchase amount.  to quit enter 'done'done\n",
      "[]\n",
      "sub total is :   0\n"
     ]
    }
   ],
   "source": [
    "#create a empty list purchase_amounts\n",
    "#populate the list with user input for the price of items\n",
    "#continue adding to list with while until \"done\" is entered\n",
    "#can use while True: with break\n",
    "#print purchase_amounts\n",
    "\n",
    "purch_amounts = []\n",
    "\n",
    "resp = ''\n",
    "amt = ''\n",
    "while amt != \"done\":\n",
    "    amt = input(\"enter purchase amount.  to quit enter 'done'\")\n",
    "    if amt != \"done\":\n",
    "        purch_amounts.append(amt)\n",
    "    \n",
    "print(purch_amounts)\n",
    "\n",
    "#create a subtotal variable = 0\n",
    "#create a while loop that runs while purchase_amount (is not empty)\n",
    "\n",
    "#inside the loop\n",
    "\n",
    "#pop() the last list value cast as a float type\n",
    "#add the float value to a subtotal variable\n",
    "#after exiting the loop print subtotal\n",
    "\n",
    "subtotal = 0\n",
    "val = 0\n",
    "while purch_amounts:\n",
    "    val = float(purch_amounts.pop())\n",
    "    subtotal += val\n",
    "    \n",
    "print(\"sub total is :  \", subtotal)\n"
   ]
  },
  {
   "cell_type": "code",
   "execution_count": 9,
   "metadata": {},
   "outputs": [
    {
     "name": "stdout",
     "output_type": "stream",
     "text": [
      "['Lab', 'Pug', 'Poodle', 'Poodle', 'Pug', 'Poodle', 'Als']\n",
      "after remove ['Lab', 'Pug', 'Poodle', 'Pug', 'Poodle', 'Als']\n"
     ]
    }
   ],
   "source": [
    "# [ ] remove one \"Poodle\" from the list: dogs , or print \"no Poodle found\"\n",
    "# [ ] print list before and after\n",
    "dogs = [\"Lab\", \"Pug\", \"Poodle\", \"Poodle\", \"Pug\", \"Poodle\", \"Als\"]\n",
    "\n",
    "print(dogs)   \n",
    "\n",
    "if \"Poodle\" in dogs:\n",
    "    dogs.remove(\"Poodle\")\n",
    "else:\n",
    "    pring(\"No Poodle found\")\n",
    "    \n",
    "print(\"after remove\", dogs)"
   ]
  },
  {
   "cell_type": "code",
   "execution_count": 12,
   "metadata": {},
   "outputs": [
    {
     "name": "stdout",
     "output_type": "stream",
     "text": [
      "['Lab', 'Pug', 'Poodle', 'Poodle', 'Pug', 'Poodle']\n",
      "['Lab', 'Pug', 'Poodle', 'Pug', 'Poodle']\n",
      "['Lab', 'Pug', 'Pug', 'Poodle']\n",
      "['Lab', 'Pug', 'Pug']\n"
     ]
    }
   ],
   "source": [
    "# [ ] review and run example\n",
    "dogs = [\"Lab\", \"Pug\", \"Poodle\", \"Poodle\", \"Pug\", \"Poodle\"]\n",
    "\n",
    "print(dogs)\n",
    "while \"Poodle\" in dogs:\n",
    "    dogs.remove(\"Poodle\")\n",
    "    print(dogs)"
   ]
  },
  {
   "cell_type": "code",
   "execution_count": null,
   "metadata": {},
   "outputs": [],
   "source": []
  }
 ],
 "metadata": {
  "kernelspec": {
   "display_name": "Python 3",
   "language": "python",
   "name": "python3"
  },
  "language_info": {
   "codemirror_mode": {
    "name": "ipython",
    "version": 3
   },
   "file_extension": ".py",
   "mimetype": "text/x-python",
   "name": "python",
   "nbconvert_exporter": "python",
   "pygments_lexer": "ipython3",
   "version": "3.6.5"
  }
 },
 "nbformat": 4,
 "nbformat_minor": 2
}
