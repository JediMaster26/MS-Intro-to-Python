{
 "cells": [
  {
   "cell_type": "markdown",
   "metadata": {},
   "source": [
    "List Iteration - Range(stop), range(start, stop)"
   ]
  },
  {
   "cell_type": "code",
   "execution_count": 4,
   "metadata": {},
   "outputs": [
    {
     "name": "stdout",
     "output_type": "stream",
     "text": [
      "Peacock\n",
      "Hummingbird\n",
      "Rainbow Lorikeet\n",
      "Pheasant\n",
      "Hoopoe\n",
      "Quetzal\n",
      "Macaw\n",
      "plyaer point is : 10 doubled as : 20\n",
      "plyaer point is : 15 doubled as : 30\n",
      "plyaer point is : 23 doubled as : 46\n",
      "plyaer point is : 3 doubled as : 6\n",
      "plyaer point is : 5 doubled as : 10\n",
      "plyaer point is : 6 doubled as : 12\n",
      "plyaer point is : 14 doubled as : 28\n",
      "Peacock Hummingbird Rainbow Lorikeet Pheasant Hoopoe Quetzal Macaw \n"
     ]
    }
   ],
   "source": [
    "# [ ] create a list of 4 to 6 strings: birds\n",
    "# print each bird in the list\n",
    "\n",
    "birds_list = ['Peacock','Hummingbird','Rainbow Lorikeet','Pheasant','Hoopoe','Quetzal','Macaw']\n",
    "\n",
    "for birds in birds_list:\n",
    "    print(birds)\n",
    "    \n",
    "# [ ]  create a list of 7 integers: player_points\n",
    "# [ ] print double the points for each point value\n",
    "player_points = [10,15,23,3,5,6,14]\n",
    "for num in player_points:\n",
    "    print('plyaer point is :', num, 'doubled as :',num*2)\n",
    "    \n",
    "# [ ] create long_string by concatenating the items in the \"birds\" list previously created\n",
    "# print long_string - make sure to put a space betweeen the bird names\n",
    "new_string = ''\n",
    "for birds in birds_list:\n",
    "    new_string = new_string + birds +' '\n",
    "    \n",
    "print(new_string)"
   ]
  },
  {
   "cell_type": "code",
   "execution_count": 9,
   "metadata": {},
   "outputs": [
    {
     "name": "stdout",
     "output_type": "stream",
     "text": [
      "......\n",
      "......\n",
      "Munich\n",
      "......\n",
      "......\n",
      "Mexico City\n",
      "......\n",
      "......\n"
     ]
    }
   ],
   "source": [
    "#[ ] Print only cities starting with \"m\"\n",
    "cities = [\"New York\", \"Shanghai\", \"Munich\", \"Tokyo\", \"Dubai\", \"Mexico City\", \"São Paulo\", \"Hyderabad\"]\n",
    "\n",
    "for city in cities:\n",
    "    if city[0].upper() == 'M':\n",
    "        print(city)\n",
    "    else:\n",
    "        print(\"......\")\n",
    "        \n",
    "        "
   ]
  },
  {
   "cell_type": "code",
   "execution_count": 14,
   "metadata": {},
   "outputs": [
    {
     "name": "stdout",
     "output_type": "stream",
     "text": [
      "cities with 'a' in them:\n",
      " ['Shanghai', 'Dubai', 'São Paulo', 'Hyderabad']\n",
      "cities with no 'a' in them:\n",
      " ['New York', 'Munich', 'Tokyo', 'Mexico City']\n"
     ]
    }
   ],
   "source": [
    "# [ ] sort into lists with \"A\" in the city name and without \"A\" in the name: a_city & no_a_city\n",
    "a_city = []\n",
    "no_a_city = []\n",
    "for city in cities:\n",
    "    a_pos = city.find(\"a\")\n",
    "    if a_pos != -1:\n",
    "        a_city.append(city)\n",
    "    else:\n",
    "        no_a_city.append(city)\n",
    "        \n",
    "        \n",
    "        \n",
    "print (\"cities with 'a' in them:\\n\", a_city)\n",
    "print (\"cities with no 'a' in them:\\n\", no_a_city)"
   ]
  },
  {
   "cell_type": "code",
   "execution_count": 16,
   "metadata": {},
   "outputs": [
    {
     "name": "stdout",
     "output_type": "stream",
     "text": [
      "The total # of \"a\" found in the list is 6\n"
     ]
    }
   ],
   "source": [
    "# [ ] review and run example\n",
    "# iterates the \"cities\" list, count & sum letter \"a\" in each city name\n",
    "\n",
    "cities = [\"New York\", \"Shanghai\", \"Munich\", \"Tokyo\", \"Dubai\", \"Mexico City\", \"São Paulo\", \"Hyderabad\"]\n",
    "search_letter = \"a\"\n",
    "total = 0\n",
    "\n",
    "for city_name in cities:\n",
    "    total += city_name.lower().count(search_letter)\n",
    "\n",
    "print(\"The total # of \\\"\" + search_letter + \"\\\" found in the list is\", total)"
   ]
  },
  {
   "cell_type": "code",
   "execution_count": null,
   "metadata": {},
   "outputs": [],
   "source": [
    "#check a list for a paint color request and print status of color \"found\"/\"not found\"\n",
    "\n",
    "#create list, paint_colors, with 5+ colors\n",
    "#get user input of string:color_request\n",
    "#iterate through each color in paint_colors to check for a match with color_request\n",
    "# [ ] complete paint stock\n",
    "\n",
    "\n",
    "def find_color(color_in):\n",
    "    paint_colors = ['Magnolia','Baby Blue','Peach','Apple Green','Brown','White']\n",
    "    \n",
    "    if color_in in paint_colors:\n",
    "        msg = \"found the color:\"+color_in\n",
    "        return msg\n",
    "    else:\n",
    "        print(\"Sorry, not found the color:\"+color_in)\n",
    "    \n",
    "    \n",
    "to_check = 'Y'\n",
    "\n",
    "while to_check != 'N':\n",
    "    color_in = input(\"Choose the Color to check.  Enter 'N' to quit:\\n\")\n",
    "    if color_in != 'N':\n",
    "        msg = find_color(color_in)\n",
    "        print(msg)\n",
    "    else:\n",
    "        print(\"Good Bye!\")  \n",
    "\n",
    "\n",
    "\n",
    "    "
   ]
  },
  {
   "cell_type": "code",
   "execution_count": 4,
   "metadata": {},
   "outputs": [
    {
     "name": "stdout",
     "output_type": "stream",
     "text": [
      "Try : 1\n",
      "name a foot bone!!q\n",
      "['calcaneus', 'talus', 'cuboid', 'navicular', 'lateral cuneiform', 'intermediate cuneiform', 'medial cuneiform']\n",
      "your choice of bone is: q\n",
      "oh! oh! Not correct!!\n",
      "last attempt:\n",
      "name a foot bone!!1\n",
      "['calcaneus', 'talus', 'cuboid', 'navicular', 'lateral cuneiform', 'intermediate cuneiform', 'medial cuneiform']\n",
      "your choice of bone is: 1\n",
      "oh! oh! Not correct!!\n"
     ]
    }
   ],
   "source": [
    "#Create a function that will iterate through foot_bones looking for a match of a string argument\n",
    "\n",
    "#Call the function 2 times with the name of a footbone\n",
    "#print immediate feedback for each answer (correct - incorrect)\n",
    "#print the total # of foot_bones identified\n",
    "\n",
    "def bones_quiz(bone_in):\n",
    "    print(foot_bones)\n",
    "    print(\"your choice of bone is:\", bone_in)\n",
    "    if bone_in in foot_bones:\n",
    "        print(\"Correct!!!\")\n",
    "    else:\n",
    "        print(\"oh! oh! Not correct!!\")\n",
    "           \n",
    "            \n",
    "foot_bones = [\"calcaneus\", \"talus\", \"cuboid\", \"navicular\", \"lateral cuneiform\",\"intermediate cuneiform\", \"medial cuneiform\"]\n",
    "cnt = 1\n",
    "while cnt <= 2:\n",
    "    if cnt == 1:\n",
    "        print(\"Try :\", cnt)\n",
    "    else:\n",
    "        print(\"last attempt:\")\n",
    "    \n",
    "    choice = input(\"name a foot bone!!\")\n",
    "    bones_quiz(choice)\n",
    "\n",
    "    cnt+=1\n",
    "    \n",
    "    \n",
    "    "
   ]
  },
  {
   "cell_type": "code",
   "execution_count": 7,
   "metadata": {},
   "outputs": [
    {
     "name": "stdout",
     "output_type": "stream",
     "text": [
      "Try : 1\n",
      "name a foot bone!!fdfd\n",
      "['calcaneus', 'talus', 'cuboid', 'navicular', 'lateral cuneiform', 'intermediate cuneiform', 'medial cuneiform']\n",
      "your choice of bone is: fdfd\n",
      "oh! oh! Not correct!!\n",
      "last attempt:\n",
      "name a foot bone!!fd\n",
      "['calcaneus', 'talus', 'cuboid', 'navicular', 'lateral cuneiform', 'intermediate cuneiform', 'medial cuneiform']\n",
      "your choice of bone is: fd\n",
      "oh! oh! Not correct!!\n"
     ]
    }
   ],
   "source": [
    "#Bonus: remove correct response item from list if correct so user cannot answer same item twice\n",
    "\n",
    "#Create a function that will iterate through foot_bones looking for a match of a string argument\n",
    "\n",
    "#Call the function 2 times with the name of a footbone\n",
    "#print immediate feedback for each answer (correct - incorrect)\n",
    "#print the total # of foot_bones identified\n",
    "\n",
    "def bones_quiz(bone_in):\n",
    "    print(foot_bones)\n",
    "    print(\"your choice of bone is:\", bone_in)\n",
    "    if bone_in in foot_bones:\n",
    "        print(\"Correct!!!\")\n",
    "        foot_bones.remove(bone_in)\n",
    "    else:\n",
    "        print(\"oh! oh! Not correct!!\")\n",
    "           \n",
    "            \n",
    "foot_bones = [\"calcaneus\", \"talus\", \"cuboid\", \"navicular\", \"lateral cuneiform\",\"intermediate cuneiform\", \"medial cuneiform\"]\n",
    "cnt = 1\n",
    "while cnt <= 2:\n",
    "    if cnt == 1:\n",
    "        print(\"Try :\", cnt)\n",
    "    else:\n",
    "        print(\"last attempt:\")\n",
    "    \n",
    "    choice = input(\"name a foot bone!!\")\n",
    "    bones_quiz(choice)\n",
    "\n",
    "    cnt+=1\n",
    "    "
   ]
  },
  {
   "cell_type": "code",
   "execution_count": 9,
   "metadata": {},
   "outputs": [
    {
     "name": "stdout",
     "output_type": "stream",
     "text": [
      "Dubai\n"
     ]
    }
   ],
   "source": [
    "cities = [\"New York\", \"Shanghai\", \"Munich\", \"Tokyo\", \"Dubai\", \"Mexico City\", \"São Paulo\", \"Hyderabad\"]\n",
    "\n",
    "for city in cities:\n",
    "    if city.startswith(\"P\"):\n",
    "        print(city)\n",
    "    elif city.startswith(\"D\"):\n",
    "        print(city)"
   ]
  },
  {
   "cell_type": "code",
   "execution_count": 13,
   "metadata": {},
   "outputs": [
    {
     "name": "stdout",
     "output_type": "stream",
     "text": [
      "0\n",
      "1\n",
      "2\n",
      "3\n",
      "4\n",
      "5\n",
      "range(0, 6)\n",
      "[0, 1, 2, 3, 4, 5]\n"
     ]
    }
   ],
   "source": [
    "# [ ] for x = 6, use range(x) to print the numbers 1 through 6\n",
    "x = 6\n",
    "for i in range(x):\n",
    "    print(i)\n",
    "\n",
    "r_list = range(x)\n",
    "print(r_list)\n",
    "print(list(r_list))"
   ]
  },
  {
   "cell_type": "code",
   "execution_count": 20,
   "metadata": {},
   "outputs": [
    {
     "name": "stdout",
     "output_type": "stream",
     "text": [
      "[0, 1, 2, 3, 4, 5, 6, 7]\n",
      "5040\n"
     ]
    }
   ],
   "source": [
    "# [ ] using range(x) multiply the numbers 1 through 7\n",
    "# 1x2x3x4x5x6x7 = 5040\n",
    "x=8\n",
    "r_list = list(range(x))\n",
    "print(r_list)\n",
    "r_m = 1\n",
    "for r in r_list:\n",
    "    if r > 0:\n",
    "        r_m = r_m*r\n",
    "    else:\n",
    "        pass\n",
    "    \n",
    "print(r_m)"
   ]
  },
  {
   "cell_type": "code",
   "execution_count": 22,
   "metadata": {},
   "outputs": [
    {
     "name": "stdout",
     "output_type": "stream",
     "text": [
      "[5, 6, 7, 8, 9, 10, 11, 12, 13, 14]\n"
     ]
    }
   ],
   "source": [
    "# [ ] using range(start,stop), .append() the numbers 5 to 15 to the list: five_fifteen\n",
    "# [ ] print list five_fifteen\n",
    "five_fifteen = []\n",
    "for i in list(range(5,15)):\n",
    "    five_fifteen.append(i)\n",
    "    \n",
    "print(five_fifteen)"
   ]
  },
  {
   "cell_type": "code",
   "execution_count": 25,
   "metadata": {},
   "outputs": [
    {
     "name": "stdout",
     "output_type": "stream",
     "text": [
      "February\n",
      "November\n",
      "Annual\n"
     ]
    }
   ],
   "source": [
    "# [ ] using range(start,stop) - print the 3rd, 4th and 5th words in spell_list\n",
    "# output should include \"February\", \"November\", \"Annual\"\n",
    "spell_list = [\"Tuesday\", \"Wednesday\", \"February\", \"November\", \"Annual\", \"Calendar\", \"Solstice\"]\n",
    "for i in range(2,5):\n",
    "    print(spell_list[i])"
   ]
  },
  {
   "cell_type": "markdown",
   "metadata": {},
   "source": [
    "### Range(start,stop,step)"
   ]
  },
  {
   "cell_type": "code",
   "execution_count": 28,
   "metadata": {},
   "outputs": [
    {
     "name": "stdout",
     "output_type": "stream",
     "text": [
      "10\n",
      "12\n",
      "14\n",
      "16\n",
      "18\n",
      "20\n",
      "18\n",
      "16\n",
      "14\n",
      "12\n"
     ]
    }
   ],
   "source": [
    "# [ ] print numbers 10 to 20 by 2's using range\n",
    "for i in range(10,20,2):\n",
    "    print(i)\n",
    "    \n",
    "# [ ] print numbers 20 to 10 using range (need to countdown)\n",
    "# Hint: start at 2\n",
    "for i in range(20,10,-2):\n",
    "    print(i)"
   ]
  },
  {
   "cell_type": "code",
   "execution_count": 37,
   "metadata": {},
   "outputs": [
    {
     "name": "stdout",
     "output_type": "stream",
     "text": [
      "enter a value here:test\n",
      "length of your choice is: 4\n",
      "range is: [0, 1, 2, 3]\n",
      "Even Positions letters are : ['t', 's']\n",
      "Odd position letters are : ['e', 't']\n"
     ]
    }
   ],
   "source": [
    "#Input a word string (word)\n",
    "#find the string length of word\n",
    "#use range() to iterate through each letter in word (can use to range loops)\n",
    "#Save odd and even letters from the word as lists\n",
    "#odd_letters: starting at index 0,2,...\n",
    "#even_letters: starting at index 1,3,...\n",
    "#print odd and even lists\n",
    "\n",
    "in_string = input(\"enter a value here:\")\n",
    "\n",
    "len_string =len(in_string)\n",
    "print(\"length of your choice is:\",len_string)\n",
    "odd_letters = []\n",
    "even_letters = []\n",
    "print(\"range is:\", list(range(len_string)))\n",
    "for i in range(len_string):\n",
    "  #  print(i)\n",
    "    if i % 2 == 0:\n",
    "        even_letters.append(in_string[i])\n",
    "    else:\n",
    "        odd_letters.append(in_string[i])\n",
    "\n",
    "print(\"Even Positions letters are :\", even_letters)\n",
    "print(\"Odd position letters are :\", odd_letters)"
   ]
  },
  {
   "cell_type": "code",
   "execution_count": 43,
   "metadata": {},
   "outputs": [
    {
     "name": "stdout",
     "output_type": "stream",
     "text": [
      "1\n",
      "3\n",
      "5\n",
      "7\n",
      "9\n",
      "range(0, 5)\n",
      "0\n",
      "1\n",
      "2\n",
      "3\n",
      "4\n"
     ]
    }
   ],
   "source": [
    "# [ ] fix the error printing odd numbers 1 - 9\n",
    "for num in range(1,10,2):\n",
    "    print(num)\n",
    "\n",
    "seq=range(0,5)\n",
    "print(seq)\n",
    "for x in seq:\n",
    "    print(x)"
   ]
  },
  {
   "cell_type": "code",
   "execution_count": 44,
   "metadata": {},
   "outputs": [
    {
     "name": "stdout",
     "output_type": "stream",
     "text": [
      "246\n"
     ]
    }
   ],
   "source": [
    "numbers = \"\"\n",
    "for x in range(2,8,2):\n",
    "    numbers += str(x)\n",
    "print(numbers)"
   ]
  }
 ],
 "metadata": {
  "kernelspec": {
   "display_name": "Python 3",
   "language": "python",
   "name": "python3"
  },
  "language_info": {
   "codemirror_mode": {
    "name": "ipython",
    "version": 3
   },
   "file_extension": ".py",
   "mimetype": "text/x-python",
   "name": "python",
   "nbconvert_exporter": "python",
   "pygments_lexer": "ipython3",
   "version": "3.6.5"
  }
 },
 "nbformat": 4,
 "nbformat_minor": 2
}
