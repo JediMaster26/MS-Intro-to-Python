{
 "cells": [
  {
   "cell_type": "markdown",
   "metadata": {},
   "source": [
    "## Mod 3.4 - Between Strings & Lists  - .split() & .join()"
   ]
  },
  {
   "cell_type": "markdown",
   "metadata": {},
   "source": [
    "### .split() -> converts string to lists, by default splits at \" \""
   ]
  },
  {
   "cell_type": "code",
   "execution_count": 8,
   "metadata": {},
   "outputs": [
    {
     "name": "stdout",
     "output_type": "stream",
     "text": [
      "Jack\n",
      "and\n",
      "Jill\n",
      "went\n",
      "up\n",
      "the\n",
      "hill\n",
      "To\n",
      "fetch\n",
      "a\n",
      "pail\n",
      "of\n",
      "water\n",
      "++++++++++++++++++++++++\n",
      " Reversed\n",
      "++++++++++++++++++++++++\n",
      "water\n",
      "of\n",
      "pail\n",
      "a\n",
      "fetch\n",
      "To\n",
      "hill\n",
      "the\n",
      "up\n",
      "went\n",
      "Jill\n",
      "and\n",
      "Jack\n",
      "++++++++++++++++++++++++\n",
      "Sorted\n",
      "++++++++++++++++++++++++\n",
      "Jack\n",
      "Jill\n",
      "To\n",
      "a\n",
      "and\n",
      "fetch\n",
      "hill\n",
      "of\n",
      "pail\n",
      "the\n",
      "up\n",
      "water\n",
      "went\n",
      "++++++++++++++++++++++++\n",
      "Sorted & Reversed\n",
      "++++++++++++++++++++++++\n",
      "went\n",
      "water\n",
      "up\n",
      "the\n",
      "pail\n",
      "of\n",
      "hill\n",
      "fetch\n",
      "and\n",
      "a\n",
      "To\n",
      "Jill\n",
      "Jack\n"
     ]
    }
   ],
   "source": [
    "# [ ] split the string(rhyme) into a list of words (rhyme_words)\n",
    "# [ ] print each word on it's own line\n",
    "rhyme = 'Jack and Jill went up the hill To fetch a pail of water' \n",
    "rhyme_words = rhyme.split()\n",
    "\n",
    "for word in rhyme_words:\n",
    "    print(word)\n",
    "\n",
    "\n",
    "rhyme_words.reverse()\n",
    "print(\"++++++++++++++++++++++++\")\n",
    "print(\" Reversed\")\n",
    "print(\"++++++++++++++++++++++++\")\n",
    "for word in rhyme_words:\n",
    "    print(word)\n",
    "rhyme_words.sort()\n",
    "print(\"++++++++++++++++++++++++\")\n",
    "print(\"Sorted\")\n",
    "print(\"++++++++++++++++++++++++\")\n",
    "for word in rhyme_words:\n",
    "    print(word)\n",
    "    \n",
    "rhyme_words.sort()\n",
    "rhyme_words.reverse()\n",
    "print(\"++++++++++++++++++++++++\")\n",
    "print(\"Sorted & Reversed\")\n",
    "print(\"++++++++++++++++++++++++\")\n",
    "for word in rhyme_words:\n",
    "    print(word)"
   ]
  },
  {
   "cell_type": "code",
   "execution_count": 10,
   "metadata": {},
   "outputs": [
    {
     "name": "stdout",
     "output_type": "stream",
     "text": [
      "Python\n",
      "spaces\n",
      "indentation\n"
     ]
    }
   ],
   "source": [
    "# [ ] split code_tip into a list and print the first and every other word\n",
    "code_tip = \"Python uses spaces for indentation\"\n",
    "code_tip_list = code_tip.split()\n",
    "\n",
    "for word in code_tip_list[::2]:\n",
    "    print(word)"
   ]
  },
  {
   "cell_type": "markdown",
   "metadata": {},
   "source": [
    "### .split('-') to split on characters other than \" \" (space), provide .split() a string argument to use as break points"
   ]
  },
  {
   "cell_type": "code",
   "execution_count": 12,
   "metadata": {},
   "outputs": [
    {
     "name": "stdout",
     "output_type": "stream",
     "text": [
      "Write Code Frequently\n",
      "Save Code Frequently\n",
      "Comment Code Frequently\n",
      "Study Code Frequently\n",
      "\n"
     ]
    }
   ],
   "source": [
    "# [ ] split poem into a list of phrases by splitting on \"*\" a\n",
    "# [ ] print each phrase on a new line in title case\n",
    "poem = \"Write code frequently*Save code frequently*Comment code frequently*Study code frequently*\"\n",
    "poem_list = poem.split('*')\n",
    "for word in poem_list:\n",
    "    print(word.title())"
   ]
  },
  {
   "cell_type": "markdown",
   "metadata": {},
   "source": [
    "## .join()"
   ]
  },
  {
   "cell_type": "code",
   "execution_count": 14,
   "metadata": {},
   "outputs": [
    {
     "name": "stdout",
     "output_type": "stream",
     "text": [
      "A*s*t*e*r*i*s*k\n"
     ]
    }
   ],
   "source": [
    "# [ ] .join() letters list objects with an Asterisk: \"*\"\n",
    "letters = [\"A\", \"s\", \"t\", \"e\", \"r\", \"i\", \"s\", \"k\"]\n",
    "new_string = '*'.join(letters)\n",
    "print(new_string)"
   ]
  },
  {
   "cell_type": "code",
   "execution_count": 16,
   "metadata": {},
   "outputs": [
    {
     "name": "stdout",
     "output_type": "stream",
     "text": [
      "Enter a choice of separator to Join the list elements to strings. Enter Q to quit.Q\n"
     ]
    }
   ],
   "source": [
    "#get user input on what to use to join words (\" \", *, -, etc...) - store in variable: separator\n",
    "#join pharse_words with the separator and print\n",
    "# [ ] complete Choose the separator\n",
    "phrase_words = ['Jack', 'and', 'Jill', 'went', 'up', 'the', 'hill', 'To', 'fetch', 'a', 'pail', 'of', 'water']\n",
    "\n",
    "separator = \"\"\n",
    "while separator != \"Q\":\n",
    "    separator = input(\"Enter a choice of separator to Join the list elements to strings. Enter Q to quit.\")\n",
    "    if separator != \"Q\":\n",
    "        new_string = separator.join(phrase_words)\n",
    "        print(new_string,\" with Choosen separator:::\",separator)\n",
    "        \n",
    "        \n"
   ]
  },
  {
   "cell_type": "code",
   "execution_count": 17,
   "metadata": {},
   "outputs": [
    {
     "name": "stdout",
     "output_type": "stream",
     "text": [
      "['-Python', '-uses', '-spaces', '-for', '-indentation']\n"
     ]
    }
   ],
   "source": [
    "code_tip = \"-PythonO-usesO-spacesO-forO-indentation\"\n",
    "tip_words = code_tip.split('O')\n",
    "print(tip_words)"
   ]
  }
 ],
 "metadata": {
  "kernelspec": {
   "display_name": "Python 3",
   "language": "python",
   "name": "python3"
  },
  "language_info": {
   "codemirror_mode": {
    "name": "ipython",
    "version": 3
   },
   "file_extension": ".py",
   "mimetype": "text/x-python",
   "name": "python",
   "nbconvert_exporter": "python",
   "pygments_lexer": "ipython3",
   "version": "3.6.5"
  }
 },
 "nbformat": 4,
 "nbformat_minor": 2
}
