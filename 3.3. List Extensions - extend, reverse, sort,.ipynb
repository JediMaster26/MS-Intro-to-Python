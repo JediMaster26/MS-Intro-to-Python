{
 "cells": [
  {
   "cell_type": "markdown",
   "metadata": {},
   "source": [
    "## Lists Extension -  .extend(), +, reverse(), .sort() and .sorted()"
   ]
  },
  {
   "cell_type": "code",
   "execution_count": 10,
   "metadata": {},
   "outputs": [
    {
     "name": "stdout",
     "output_type": "stream",
     "text": [
      "[1, 2, 3, 4, 5, 6, 7, 8, 9]\n",
      "[10, 20, 30, 40, 50, 60, 70, 80, 90, 100]\n",
      "[1, 2, 3, 4, 5, 6, 7, 8, 9, 10, 20, 30, 40, 50, 60, 70, 80, 90, 100]\n"
     ]
    }
   ],
   "source": [
    "# [ ] Create 2 lists zero_nine and ten_onehundred that contain 1-9, and 10 - 100 by 10's.\n",
    "# [ ] use list addition to concatenate the lists into all_num and print\n",
    "\n",
    "zero_nine = list(range(1,10))\n",
    "print(zero_nine)\n",
    "ten_onehundred = list(range(10,110,10))\n",
    "print(ten_onehundred)\n",
    "all_num = zero_nine + ten_onehundred\n",
    "print(all_num)"
   ]
  },
  {
   "cell_type": "code",
   "execution_count": 12,
   "metadata": {},
   "outputs": [
    {
     "name": "stdout",
     "output_type": "stream",
     "text": [
      "regular list [0, 1, 2, 3, 4, 5, 6, 7, 8, 9, 10, 20, 30, 40, 50, 60, 70, 80, 90, 100] \n",
      "\n",
      "reverse list [100, 90, 80, 70, 60, 50, 40, 30, 20, 10, 9, 8, 7, 6, 5, 4, 3, 2, 1, 0] \n",
      "\n",
      "Three Multiple\n",
      "90\n",
      "60\n",
      "30\n",
      "9\n",
      "6\n",
      "3\n",
      "0\n"
     ]
    }
   ],
   "source": [
    "# Reversing List\n",
    "\n",
    "# [ ] review and run example\n",
    "all_num = [0, 1, 2, 3, 4, 5, 6, 7, 8, 9, 10, 20, 30, 40, 50, 60, 70, 80, 90, 100]\n",
    "print(\"regular list\",all_num, \"\\n\")\n",
    "all_num.reverse()\n",
    "print(\"reverse list\",all_num, \"\\n\")\n",
    "num_len = len(all_num)\n",
    "\n",
    "print(\"Three Multiple\")\n",
    "for num in all_num:\n",
    "    if num/3 == int(num/3):\n",
    "        print(num)\n",
    "    else:\n",
    "        pass"
   ]
  },
  {
   "cell_type": "code",
   "execution_count": 15,
   "metadata": {},
   "outputs": [
    {
     "name": "stdout",
     "output_type": "stream",
     "text": [
      "before list [0, 1, 2, 3, 4, 5, 6, 7, 8, 9, 10, 11, 12, 13, 14, 15, 16, 17, 18, 19, 20]\n",
      "after list [20, 19, 18, 17, 16, 15, 14, 13, 12, 11, 10, 9, 8, 7, 6, 5, 4, 3, 2, 1, 0]\n"
     ]
    }
   ],
   "source": [
    "# [ ] review and run example\n",
    "# create a list of  numbers by casting a range \n",
    "count_list = list(range(21))\n",
    "print(\"before list\", count_list)\n",
    "\n",
    "# and reverse\n",
    "count_list.reverse()\n",
    "print(\"after list\", count_list)"
   ]
  },
  {
   "cell_type": "code",
   "execution_count": 21,
   "metadata": {},
   "outputs": [
    {
     "name": "stdout",
     "output_type": "stream",
     "text": [
      "5 multiples : [5, 10, 15, 20, 25, 30, 35, 40, 45, 50, 55, 60, 65, 70, 75, 80, 85, 90, 95, 100]\n",
      "5 multiples reversed : [100, 95, 90, 85, 80, 75, 70, 65, 60, 55, 50, 45, 40, 35, 30, 25, 20, 15, 10, 5]\n"
     ]
    }
   ],
   "source": [
    "#.reverse()\n",
    "# [ ] create and  print a list of multiples of 5 from 5 to 100\n",
    "# { ] reverse the list and print\n",
    "\n",
    "multiples_5 = list(range(5,105,5))\n",
    "print(\"5 multiples :\", multiples_5)\n",
    "multiples_5.reverse()\n",
    "print(\"5 multiples reversed :\", multiples_5)"
   ]
  },
  {
   "cell_type": "code",
   "execution_count": 29,
   "metadata": {},
   "outputs": [
    {
     "name": "stdout",
     "output_type": "stream",
     "text": [
      "['Dubai', 'Hyderabad', 'Mexico City', 'Munich', 'New York', 'Shanghai', 'São Paulo', 'Toyko']\n",
      "Dubai\n",
      "Hyderabad\n",
      "Mexico City\n",
      "Munich\n",
      "New York\n"
     ]
    }
   ],
   "source": [
    "#.sort() & sorted()\n",
    "# [ ] print cites from visited_cities list in alphbetical order using .sort()\n",
    "# [ ] only print cities that names start \"Q\" or earlier\n",
    "visited_cities = [\"New York\", \"Shanghai\", \"Munich\", \"Toyko\", \"Dubai\", \"Mexico City\", \"São Paulo\", \"Hyderabad\"]\n",
    "visited_cities.sort()\n",
    "print(visited_cities)\n",
    "\n",
    "for city in visited_cities:\n",
    "    #print(city)\n",
    "    if city[0] <= \"Q\":\n",
    "        print(city)\n",
    "    else:\n",
    "        pass"
   ]
  },
  {
   "cell_type": "code",
   "execution_count": 32,
   "metadata": {},
   "outputs": [
    {
     "name": "stdout",
     "output_type": "stream",
     "text": [
      "['New York', 'Shanghai', 'Munich', 'Toyko', 'Dubai', 'Mexico City', 'São Paulo', 'Hyderabad']\n",
      "['Hyderabad', 'Mexico City', 'Munich', 'New York', 'Shanghai', 'São Paulo']\n"
     ]
    }
   ],
   "source": [
    "# [ ] make a sorted copy (sorted_cities) of visited_cities list\n",
    "# [ ] remove city names 5 characters or less from sorted_cities \n",
    "# [ ] print visitied cites and sorted cities\n",
    "visited_cities = [\"New York\", \"Shanghai\", \"Munich\", \"Toyko\", \"Dubai\", \"Mexico City\", \"São Paulo\", \"Hyderabad\"]\n",
    "vc2 = sorted(visited_cities)\n",
    "print(visited_cities)\n",
    "for city in vc2:\n",
    "    if len(city) <= 5:\n",
    "        vc2.remove(city)\n",
    "    else:\n",
    "        pass\n",
    "    \n",
    "print(vc2)"
   ]
  },
  {
   "cell_type": "code",
   "execution_count": 8,
   "metadata": {},
   "outputs": [
    {
     "name": "stdout",
     "output_type": "stream",
     "text": [
      "Enter your choice of animals.  To quite enterArmadillo\n",
      "Enter your choice of animals.  To quite enterAnteater\n",
      "Enter your choice of animals.  To quite enterBaboon\n",
      "Enter your choice of animals.  To quite enterCheetah\n",
      "Enter your choice of animals.  To quite enterZeebra\n",
      "Enter your choice of animals.  To quite enterTiger\n",
      "Enter your choice of animals.  To quite enter\n",
      "good bye\n",
      "['Armadillo', 'Anteater', 'Baboon', 'Cheetah', 'Zeebra', 'Tiger']\n",
      "before extension: ['Chimpanzee', 'Panther', 'Wolf', 'Armadillo']\n",
      "after extension: ['Chimpanzee', 'Panther', 'Wolf', 'Armadillo', 'Armadillo', 'Anteater', 'Baboon', 'Cheetah', 'Zeebra', 'Tiger']\n",
      "Do you want the list to be sorted in reverse ? (Enter Y or N)Y\n",
      "['Zeebra', 'Wolf', 'Tiger', 'Panther', 'Chimpanzee', 'Cheetah', 'Baboon', 'Armadillo', 'Armadillo', 'Anteater']\n"
     ]
    }
   ],
   "source": [
    "#step 1 get user input to build add_animals list\n",
    "add_animals = []\n",
    "resp = \"Y\"\n",
    "\n",
    "while resp != \"\":\n",
    "    resp = input(\"Enter your choice of animals.  To quite enter\")\n",
    "    if resp != \"\":\n",
    "        add_animals.append(resp)\n",
    "    else:\n",
    "        print(\"good bye\")\n",
    "        \n",
    "print(add_animals)\n",
    "\n",
    "#step 2 Merge the lists: add_animals into animals\n",
    "\n",
    "# [ ] extend the lists into animals, then sort \n",
    "animals = [\"Chimpanzee\", \"Panther\", \"Wolf\", \"Armadillo\"]\n",
    "print(\"before extension:\",animals)\n",
    "animals.extend(add_animals)\n",
    "print(\"after extension:\",animals)\n",
    "\n",
    "#step 3 Allow animals list to be viewed alpha or reverse alpha order\n",
    "\n",
    "# [ ] get input if list should be viewed alpha or reverse alpha and display list\n",
    "\n",
    "view_type = input(\"Do you want the list to be sorted in reverse ? (Enter Y or N)\")\n",
    "\n",
    "if view_type == 'Y':\n",
    "    animals.sort()\n",
    "    animals.reverse()\n",
    "    print(animals)\n",
    "else:\n",
    "    print(animals)"
   ]
  }
 ],
 "metadata": {
  "kernelspec": {
   "display_name": "Python 3",
   "language": "python",
   "name": "python3"
  },
  "language_info": {
   "codemirror_mode": {
    "name": "ipython",
    "version": 3
   },
   "file_extension": ".py",
   "mimetype": "text/x-python",
   "name": "python",
   "nbconvert_exporter": "python",
   "pygments_lexer": "ipython3",
   "version": "3.6.5"
  }
 },
 "nbformat": 4,
 "nbformat_minor": 2
}
