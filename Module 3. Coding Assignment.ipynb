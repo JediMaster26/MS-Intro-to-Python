{
 "cells": [
  {
   "cell_type": "markdown",
   "metadata": {},
   "source": [
    "# Module 3 - Coding assignment"
   ]
  },
  {
   "cell_type": "code",
   "execution_count": 17,
   "metadata": {},
   "outputs": [
    {
     "name": "stdout",
     "output_type": "stream",
     "text": [
      "before replace ['one', 'two']\n",
      "['one', 'three']\n",
      "['one', 'three', 'five']\n",
      "['one', 'two', 'three', 'five']\n",
      "['one', 'two', 'three', 'four', 'five']\n",
      "['two', 'three', 'four', 'five']\n"
     ]
    },
    {
     "ename": "IndexError",
     "evalue": "pop index out of range",
     "output_type": "error",
     "traceback": [
      "\u001b[1;31m---------------------------------------------------------------------------\u001b[0m",
      "\u001b[1;31mIndexError\u001b[0m                                Traceback (most recent call last)",
      "\u001b[1;32m<ipython-input-17-83dcc2cd481c>\u001b[0m in \u001b[0;36m<module>\u001b[1;34m()\u001b[0m\n\u001b[0;32m     11\u001b[0m \u001b[0mlist1\u001b[0m\u001b[1;33m.\u001b[0m\u001b[0mpop\u001b[0m\u001b[1;33m(\u001b[0m\u001b[1;33m-\u001b[0m\u001b[1;36m5\u001b[0m\u001b[1;33m)\u001b[0m\u001b[1;33m\u001b[0m\u001b[0m\n\u001b[0;32m     12\u001b[0m \u001b[0mprint\u001b[0m\u001b[1;33m(\u001b[0m\u001b[0mlist1\u001b[0m\u001b[1;33m)\u001b[0m\u001b[1;33m\u001b[0m\u001b[0m\n\u001b[1;32m---> 13\u001b[1;33m \u001b[0mlist1\u001b[0m\u001b[1;33m.\u001b[0m\u001b[0mpop\u001b[0m\u001b[1;33m(\u001b[0m\u001b[1;33m-\u001b[0m\u001b[1;36m5\u001b[0m\u001b[1;33m)\u001b[0m\u001b[1;33m\u001b[0m\u001b[0m\n\u001b[0m\u001b[0;32m     14\u001b[0m \u001b[0mprint\u001b[0m\u001b[1;33m(\u001b[0m\u001b[0mlist1\u001b[0m\u001b[1;33m)\u001b[0m\u001b[1;33m\u001b[0m\u001b[0m\n",
      "\u001b[1;31mIndexError\u001b[0m: pop index out of range"
     ]
    }
   ],
   "source": [
    "list1 = [\"one\",\"two\"]\n",
    "print(\"before replace\", list1)\n",
    "list1[1] = \"three\"\n",
    "print(list1)\n",
    "list1.append(\"five\")\n",
    "print(list1)\n",
    "list1.insert(1,\"two\")\n",
    "print(list1)\n",
    "list1.insert(3,\"four\")\n",
    "print(list1)\n",
    "list1.pop(-5)\n",
    "print(list1)\n",
    "list1.pop(-5)\n",
    "print(list1)"
   ]
  },
  {
   "cell_type": "code",
   "execution_count": 25,
   "metadata": {},
   "outputs": [
    {
     "name": "stdout",
     "output_type": "stream",
     "text": [
      "Enter a string to start.  To quit QLittle fly, Thy summer’s play My thoughtless hand Has brushed away. Am not I A fly like thee? Or art not thou A man like me?\n",
      "number of elements in list is: 26\n",
      "Enter a string to start.  To quit QQ\n",
      "Received : Q\n",
      "converted : ['Little', 'fly,', 'thy', 'SUMMER’S', 'play', 'my', 'THOUGHTLESS', 'hand', 'has', 'BRUSHED', 'away.', 'am', 'not', 'i', 'a', 'fly', 'like', 'thee?', 'or', 'art', 'not', 'thou', 'a', 'man', 'like', 'me?']\n",
      "sorted list  : ['BRUSHED', 'Little', 'SUMMER’S', 'THOUGHTLESS', 'a', 'a', 'am', 'art', 'away.', 'fly', 'fly,', 'hand', 'has', 'i', 'like', 'like', 'man', 'me?', 'my', 'not', 'not', 'or', 'play', 'thee?', 'thou', 'thy']\n",
      "number of elements in list is: 26\n",
      "new list from mixer : ['or', 'BRUSHED', 'thy', 'not', 'Little', 'thou', 'me?', 'SUMMER’S', 'thee?', 'like', 'THOUGHTLESS', 'play', 'i', 'a', 'not', 'hand', 'a', 'my', 'fly', 'am', 'man', 'art', 'away.', 'like']\n"
     ]
    }
   ],
   "source": [
    "def word_mixer(in_list):\n",
    "    in_list.sort()\n",
    "    print(\"sorted list  :\", in_list)\n",
    "    list_len2 = len(in_list)\n",
    "    print(\"number of elements in list is:\", list_len)\n",
    "    new_list = []\n",
    "    while list_len2 >=5:\n",
    "        nword = in_list.pop(-5)\n",
    "        new_list.append(nword)\n",
    "        fst = in_list.pop(0)\n",
    "        new_list.append(fst)\n",
    "        lst = in_list.pop()\n",
    "        new_list.append(lst)\n",
    "        list_len2 = len(in_list)\n",
    "     \n",
    "    return(new_list)\n",
    "\n",
    "string_in = \"\"\n",
    "list_in = []\n",
    "while string_in  != \"Q\":\n",
    "    string_in = input(\"Enter a string to start.  To quit Q\")\n",
    "    if string_in != \"Q\":\n",
    "        list_in = string_in.split()\n",
    "  #      print(list_in)\n",
    "    else:\n",
    "        break\n",
    "    \n",
    "    list_len = len(list_in)\n",
    "    print(\"number of elements in list is:\", list_len)\n",
    "    \n",
    "    for cnt in range(list_len):\n",
    "        word_len = len(list_in[cnt])\n",
    "        #print(\"word is :\", list_in[cnt],\" and it length is :\", word_len)\n",
    "        if word_len <= 3:\n",
    "            lword = list_in[cnt].lower()\n",
    "            list_in[cnt] = lword\n",
    "        elif word_len >= 7:\n",
    "            uword = list_in[cnt].upper()\n",
    "            list_in[cnt] = uword\n",
    "        else:\n",
    "            pass\n",
    "            \n",
    "print(\"Received :\", string_in)    \n",
    "print(\"converted :\", list_in)\n",
    "\n",
    "nlist = word_mixer(list_in)\n",
    "print(\"new list from mixer :\", nlist)\n",
    "\n",
    "\n",
    "            \n",
    "    "
   ]
  }
 ],
 "metadata": {
  "kernelspec": {
   "display_name": "Python 3",
   "language": "python",
   "name": "python3"
  },
  "language_info": {
   "codemirror_mode": {
    "name": "ipython",
    "version": 3
   },
   "file_extension": ".py",
   "mimetype": "text/x-python",
   "name": "python",
   "nbconvert_exporter": "python",
   "pygments_lexer": "ipython3",
   "version": "3.6.5"
  }
 },
 "nbformat": 4,
 "nbformat_minor": 2
}
