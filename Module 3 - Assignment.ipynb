{
 "cells": [
  {
   "cell_type": "markdown",
   "metadata": {},
   "source": [
    "## Assignment - Task1"
   ]
  },
  {
   "cell_type": "code",
   "execution_count": 2,
   "metadata": {},
   "outputs": [
    {
     "name": "stdout",
     "output_type": "stream",
     "text": [
      "Solid  - is state of matter  solid\n",
      "Liquid  - is state of matter  liquid\n",
      "Gas  - is state of matter  gas\n",
      "Plasma  - is state of matter  plasma\n"
     ]
    }
   ],
   "source": [
    "# [ ] print out the \"physical states of matter\" (matter_states) in 4 sentences using list iteration\n",
    "# each sentence should be of the format: \"Solid - is state of matter #1\" \n",
    "matter_states = ['solid', 'liquid', 'gas', 'plasma']\n",
    "for matter in matter_states:\n",
    "    print(matter.title(),\" - is state of matter \",matter)"
   ]
  },
  {
   "cell_type": "code",
   "execution_count": 5,
   "metadata": {},
   "outputs": [
    {
     "name": "stdout",
     "output_type": "stream",
     "text": [
      "Before :: birds list ['turkey', 'hawk', 'chicken', 'dove', 'crow']\n",
      "After :: birds list ['turkey', 'hawk', 'dove']\n"
     ]
    }
   ],
   "source": [
    "# [ ] iterate the list (birds) to see any bird names start with \"c\" and remove that item from the list\n",
    "# print the birds list before and after removals\n",
    "birds = [\"turkey\", \"hawk\", \"chicken\", \"dove\", \"crow\"]\n",
    "print(\"Before :: birds list\", birds)\n",
    "for bird in birds:\n",
    "    if bird.startswith(\"c\"):\n",
    "        birds.remove(bird)\n",
    "    else:\n",
    "        pass\n",
    "    \n",
    "print(\"After :: birds list\", birds)"
   ]
  },
  {
   "cell_type": "code",
   "execution_count": 7,
   "metadata": {},
   "outputs": [
    {
     "name": "stdout",
     "output_type": "stream",
     "text": [
      "Point1 Baskets Occurs : 4  : times and the total is : 4\n",
      "Point2 Baskets Occurs : 8  : times and the total is : 16\n",
      "Point3 Baskets Occurs : 3  : times and the total is : 9\n"
     ]
    }
   ],
   "source": [
    "# the team makes 1pt, 2pt or 3pt baskets\n",
    "# [ ] print the occurrence of each type of basket(1pt, 2pt, 3pt) & total points using the list baskets\n",
    "baskets = [2,2,2,1,2,1,3,3,1,2,2,2,2,1,3]\n",
    "\n",
    "pt1_total = 0\n",
    "pt1_count = 0\n",
    "pt2_total = 0\n",
    "pt2_count = 0\n",
    "pt3_total = 0\n",
    "pt3_count = 0\n",
    "\n",
    "for pt in baskets:\n",
    "    if pt == 1:\n",
    "        pt1_total += pt\n",
    "        pt1_count += 1\n",
    "    elif pt == 2:\n",
    "        pt2_total += pt\n",
    "        pt2_count += 1\n",
    "    else:\n",
    "        pt3_total += pt\n",
    "        pt3_count += 1\n",
    "    \n",
    "print(\"Point1 Baskets Occurs :\",pt1_count,\" : times and the total is :\", pt1_total)\n",
    "print(\"Point2 Baskets Occurs :\",pt2_count,\" : times and the total is :\", pt2_total)\n",
    "print(\"Point3 Baskets Occurs :\",pt3_count,\" : times and the total is :\", pt3_total)\n",
    "    "
   ]
  },
  {
   "cell_type": "markdown",
   "metadata": {},
   "source": [
    "### Task2"
   ]
  },
  {
   "cell_type": "code",
   "execution_count": 1,
   "metadata": {},
   "outputs": [
    {
     "name": "stdout",
     "output_type": "stream",
     "text": [
      "hello\n",
      "hello\n",
      "hello\n",
      "hello\n",
      "length of list spell_list is : 7\n"
     ]
    }
   ],
   "source": [
    "# iteration with range(start) & range(start,stop)\n",
    "# [ ] using range() print \"hello\" 4 times\n",
    "# [ ] find spell_list length\n",
    "# [ ] use range() to iterate each half of spell_list  \n",
    "# [ ] label & print the first and second halves\n",
    "spell_list = [\"Tuesday\", \"Wednesday\", \"February\", \"November\", \"Annual\", \"Calendar\", \"Solstice\"]\n",
    "\n",
    "for i in range(4):\n",
    "    print(\"hello\")\n",
    "\n",
    "cnt = 0\n",
    "for word in spell_list:\n",
    "    cnt+=1\n",
    "    \n",
    "print(\"length of list spell_list is :\", cnt)\n"
   ]
  },
  {
   "cell_type": "code",
   "execution_count": 3,
   "metadata": {},
   "outputs": [
    {
     "name": "stdout",
     "output_type": "stream",
     "text": [
      "length of list spell_list is : 20\n"
     ]
    }
   ],
   "source": [
    "all_num = [0, 1, 2, 3, 4, 5, 6, 7, 8, 9, 10, 20, 30, 40, 50, 60, 70, 80, 90, 100]\n",
    "num_len = len(all_num)\n",
    "print(\"length of list spell_list is :\", num_len)"
   ]
  },
  {
   "cell_type": "code",
   "execution_count": 8,
   "metadata": {},
   "outputs": [
    {
     "name": "stdout",
     "output_type": "stream",
     "text": [
      "length of list spell_list is : 7\n",
      "Tuesday\n",
      "Wednesday\n",
      "February\n",
      "+++++++++++++++\n",
      "Other Half\n",
      "+++++++++++++++\n",
      "November\n",
      "Annual\n",
      "Calendar\n",
      "Solstice\n"
     ]
    }
   ],
   "source": [
    "spell_list = [\"Tuesday\", \"Wednesday\", \"February\", \"November\", \"Annual\", \"Calendar\", \"Solstice\"]\n",
    "num_len = len(spell_list)\n",
    "print(\"length of list spell_list is :\", num_len)\n",
    "mid_pt = int(num_len/2)\n",
    "\n",
    "for i in range(mid_pt):\n",
    "    print(spell_list[i])\n",
    "    \n",
    "print(\"+++++++++++++++\")\n",
    "print(\"Other Half\")\n",
    "print(\"+++++++++++++++\")\n",
    "for i in range(mid_pt,num_len):\n",
    "    print(spell_list[i])\n",
    "    "
   ]
  },
  {
   "cell_type": "code",
   "execution_count": 11,
   "metadata": {},
   "outputs": [
    {
     "name": "stdout",
     "output_type": "stream",
     "text": [
      "[20, 21, 22, 23, 24, 25, 26, 27, 28, 29]\n",
      "Sum of twenties is:  245\n"
     ]
    }
   ],
   "source": [
    "# [ ] build a list of numbers from 20 to 29: twenties \n",
    "# append each number to twenties list using range(start,stop) iteration\n",
    "# [ ] print twenties\n",
    "twenties = []\n",
    "total = 0\n",
    "for i in range(20,30,1):\n",
    "   #print(i)\n",
    "    twenties.append(i)\n",
    "    total+=i\n",
    "    \n",
    "print(twenties)\n",
    "print(\"Sum of twenties is: \", total)"
   ]
  },
  {
   "cell_type": "markdown",
   "metadata": {},
   "source": [
    "## Task3"
   ]
  },
  {
   "cell_type": "code",
   "execution_count": 13,
   "metadata": {},
   "outputs": [
    {
     "name": "stdout",
     "output_type": "stream",
     "text": [
      "[1, 3, 5, 7, 9, 11, 13, 15, 17, 19, 21, 23]\n"
     ]
    }
   ],
   "source": [
    "# [ ] create a list of odd numbers (odd_nums) from 1 to 25 using range(start,stop,skip)\n",
    "# [ ] print odd_nums\n",
    "# hint: odd numbers are 2 digits apart\n",
    "odd_nums = list(range(1,25,2))\n",
    "print(odd_nums)"
   ]
  },
  {
   "cell_type": "code",
   "execution_count": 18,
   "metadata": {},
   "outputs": [
    {
     "name": "stdout",
     "output_type": "stream",
     "text": [
      "[25, 23, 21, 19, 17, 15, 13, 11, 9, 7, 5, 3]\n"
     ]
    }
   ],
   "source": [
    "# [ ] create a Decending list of odd numbers (odd_nums) from 25 to 1 using range(start,stop,skip)\n",
    "# [ ] print odd_nums,  output should resemble [25, 23, ...]\n",
    "odd_nums = list(range(25,1,-2))\n",
    "print(odd_nums)"
   ]
  },
  {
   "cell_type": "code",
   "execution_count": 22,
   "metadata": {},
   "outputs": [
    {
     "name": "stdout",
     "output_type": "stream",
     "text": [
      "2  -  Lithium\n",
      "4  -  Boron\n",
      "6  -  Nitrogen\n",
      "8  -  Fluorine\n",
      "10  -  Sodium\n",
      "12  -  Aluminum\n",
      "14  -  Phosphorus\n",
      "16  -  Chlorine\n",
      "18  -  Potassium\n"
     ]
    }
   ],
   "source": [
    "# the list, elements, contains the names of the first 20 elements in atomic number order\n",
    "# [ ] print the even number elements \"2 - Helium, 4 - Beryllium,..\" in the list with the atomic number\n",
    "elements = ['Hydrogen', 'Helium', 'Lithium', 'Beryllium', 'Boron', 'Carbon', 'Nitrogen', 'Oxygen', 'Fluorine', \\\n",
    " 'Neon', 'Sodium', 'Magnesium', 'Aluminum', 'Silicon', 'Phosphorus', 'Sulfur', 'Chlorine', 'Argon', \\\n",
    " 'Potassium', 'Calcium']\n",
    "\n",
    "for i in range(1,20):\n",
    "    if (i % 2) == 0:\n",
    "        print(i,\" - \",elements[i])\n",
    "    else:\n",
    "        pass\n",
    "    "
   ]
  },
  {
   "cell_type": "code",
   "execution_count": 43,
   "metadata": {},
   "outputs": [
    {
     "name": "stdout",
     "output_type": "stream",
     "text": [
      "1  -  Hydrogen\n",
      "3  -  Lithium\n",
      "5  -  Boron\n",
      "7  -  Nitrogen\n",
      "9  -  Fluorine\n",
      "11  -  Sodium\n",
      "13  -  Aluminum\n",
      "15  -  Phosphorus\n",
      "17  -  Chlorine\n",
      "19  -  Potassium\n",
      "21  -  Scandium\n",
      "23  -  Vanadium\n",
      "25  -  Manganese\n",
      "27  -  Cobalt\n",
      "29  -  Copper\n",
      "31  -  Gallium\n",
      "33  -  Arsenic\n",
      "35  -  Bromine\n",
      "37  -  Rubidium\n",
      "39  -  Yttrium\n"
     ]
    }
   ],
   "source": [
    "# [ ] the list, elements_40, contains the names of the first 40 elements in atomic number order\n",
    "# [ ] print the odd number elements \"1 - Hydrogen, 3 - Lithium,..\" in the list with the atomic number elements_40\n",
    "elements_40 = ['Hydrogen', 'Helium', 'Lithium', 'Beryllium', 'Boron', 'Carbon', 'Nitrogen', 'Oxygen', 'Fluorine', \\\n",
    " 'Neon', 'Sodium', 'Magnesium', 'Aluminum', 'Silicon', 'Phosphorus', 'Sulfur', 'Chlorine', \\\n",
    " 'Argon', 'Potassium', 'Calcium', 'Scandium', 'Titanium', 'Vanadium', 'Chromium', 'Manganese', \\\n",
    " 'Iron', 'Cobalt', 'Nickel', 'Copper', 'Zinc', 'Gallium', 'Germanium', 'Arsenic', 'Selenium', \\\n",
    " 'Bromine', 'Krypton', 'Rubidium', 'Strontium', 'Yttrium', 'Zirconium']\n",
    "\n",
    "for i in range(0,40,2):\n",
    "   print(i+1,\" - \",elements_40[i])"
   ]
  },
  {
   "cell_type": "markdown",
   "metadata": {},
   "source": [
    "## Task 4 "
   ]
  },
  {
   "cell_type": "code",
   "execution_count": 45,
   "metadata": {},
   "outputs": [
    {
     "name": "stdout",
     "output_type": "stream",
     "text": [
      "combined list from numbers_1 & numbers_2:  [20, 21, 22, 23, 24, 25, 26, 27, 28, 29, 30, 32, 34, 36, 38, 40, 42, 44, 46, 48]\n"
     ]
    }
   ],
   "source": [
    "# [ ] print the combined lists (numbers_1 & numbers_2) using \"+\" operator\n",
    "numbers_1 = [20, 21, 22, 23, 24, 25, 26, 27, 28, 29]\n",
    "\n",
    "# pythonic casting of a range into a list\n",
    "numbers_2 = list(range(30,50,2))\n",
    "\n",
    "print(\"combined list from numbers_1 & numbers_2: \", numbers_1+numbers_2)"
   ]
  },
  {
   "cell_type": "code",
   "execution_count": 49,
   "metadata": {},
   "outputs": [
    {
     "name": "stdout",
     "output_type": "stream",
     "text": [
      "1st row extended:  ['Hydrogen', 'Helium', 'Lithium', 'Beryllium', 'Boron', 'Carbon', 'Nitrogen', 'Oxygen', 'Fluorine', 'Neon']\n",
      "2nd row extended:  ['Lithium', 'Beryllium', 'Boron', 'Carbon', 'Nitrogen', 'Oxygen', 'Fluorine', 'Neon', 'Hydrogen', 'Helium', 'Lithium', 'Beryllium', 'Boron', 'Carbon', 'Nitrogen', 'Oxygen', 'Fluorine', 'Neon']\n"
     ]
    }
   ],
   "source": [
    "# [ ] print the combined element lists (first_row & second_row) using \".extend()\" method\n",
    "first_row = ['Hydrogen', 'Helium']\n",
    "second_row = ['Lithium', 'Beryllium', 'Boron', 'Carbon', 'Nitrogen', 'Oxygen', 'Fluorine', 'Neon']\n",
    "\n",
    "first_row.extend(second_row)\n",
    "print(\"1st row extended: \", first_row)\n",
    "second_row.extend(first_row)\n",
    "print(\"2nd row extended: \", second_row)"
   ]
  },
  {
   "cell_type": "code",
   "execution_count": 53,
   "metadata": {},
   "outputs": [
    {
     "name": "stdout",
     "output_type": "stream",
     "text": [
      "first two rows of Periodic table : ['Hydrogen', 'Helium', 'Lithium', 'Beryllium', 'Boron', 'Carbon', 'Nitrogen', 'Oxygen', 'Fluorine', 'Neon']\n",
      "first three rows of Periodic table : ['Hydrogen', 'Helium', 'Lithium', 'Beryllium', 'Boron', 'Carbon', 'Nitrogen', 'Oxygen', 'Fluorine', 'Neon', 'Sodium', 'Magnesium', 'Aluminum', 'Silicon', 'Phosphorus', 'Sulfur', 'Chlorine', 'Argon']\n"
     ]
    }
   ],
   "source": [
    "# [ ] create the program: combined 3 element rows \n",
    "\n",
    "elem_1 = ['Hydrogen', 'Helium'] \n",
    "elem_2 = ['Lithium', 'Beryllium', 'Boron', 'Carbon', 'Nitrogen', 'Oxygen', 'Fluorine', 'Neon']\n",
    "elem_3 = ['Sodium', 'Magnesium', 'Aluminum', 'Silicon', 'Phosphorus', 'Sulfur', 'Chlorine', 'Argon']\n",
    "\n",
    "elem_1.extend(elem_2)\n",
    "print(\"first two rows of Periodic table :\",elem_1)\n",
    "elem_1.extend(elem_3)\n",
    "print(\"first three rows of Periodic table :\",elem_1)\n"
   ]
  },
  {
   "cell_type": "code",
   "execution_count": 55,
   "metadata": {},
   "outputs": [
    {
     "name": "stdout",
     "output_type": "stream",
     "text": [
      "['Jack', 'and', 'Jill', 'went', 'up', 'the', 'hill', 'To', 'fetch', 'a', 'pail', 'of', 'water']\n"
     ]
    }
   ],
   "source": [
    "# [ ] .extend() jack_jill with \"next_line\" string - print the result\n",
    "jack_jill = ['Jack', 'and', 'Jill', 'went', 'up', 'the', 'hill']\n",
    "next_line = ['To', 'fetch', 'a', 'pail', 'of', 'water']\n",
    "\n",
    "jack_jill.extend(next_line)\n",
    "print(jack_jill)"
   ]
  },
  {
   "cell_type": "markdown",
   "metadata": {},
   "source": [
    "## Task 5 - .reverse() "
   ]
  },
  {
   "cell_type": "code",
   "execution_count": 58,
   "metadata": {},
   "outputs": [
    {
     "name": "stdout",
     "output_type": "stream",
     "text": [
      "elements in reverse order : ['Calcium', 'Potassium', 'Argon', 'Chlorine', 'Sulfur', 'Phosphorus', 'Silicon', 'Aluminum', 'Magnesium', 'Sodium', 'Neon', 'Fluorine', 'Oxygen', 'Nitrogen', 'Carbon', 'Boron', 'Beryllium', 'Lithium', 'Helium', 'Hydrogen']\n"
     ]
    }
   ],
   "source": [
    "#.reverse() : reverse a list in place\n",
    "# [ ] use .reverse() to print elements starting with \"Calcium\", \"Chlorine\",... in reverse order\n",
    "elements = ['Hydrogen', 'Helium', 'Lithium', 'Beryllium', 'Boron', 'Carbon', 'Nitrogen', 'Oxygen', 'Fluorine', \\\n",
    " 'Neon', 'Sodium', 'Magnesium', 'Aluminum', 'Silicon', 'Phosphorus', 'Sulfur', 'Chlorine', 'Argon', \\\n",
    " 'Potassium', 'Calcium']\n",
    "\n",
    "elements.reverse()\n",
    "print(\"elements in reverse order :\", elements)"
   ]
  },
  {
   "cell_type": "code",
   "execution_count": 60,
   "metadata": {},
   "outputs": [
    {
     "name": "stdout",
     "output_type": "stream",
     "text": [
      "Solstice\n",
      "Calendar\n",
      "November\n",
      "February\n",
      "Wednesday\n"
     ]
    }
   ],
   "source": [
    "# [ ] reverse order of the list... Then print only words that are 8 characters or longer from the now reversed order\n",
    "spell_list = [\"Tuesday\", \"Wednesday\", \"February\", \"November\", \"Annual\", \"Calendar\", \"Solstice\"]\n",
    "\n",
    "spell_list.reverse()\n",
    "\n",
    "for day in spell_list:\n",
    "    if len(day) >= 8:\n",
    "        print(day)\n",
    "    else:\n",
    "        pass"
   ]
  },
  {
   "cell_type": "markdown",
   "metadata": {},
   "source": [
    "## Task 6 - .sort(), .sorted() "
   ]
  },
  {
   "cell_type": "code",
   "execution_count": 62,
   "metadata": {},
   "outputs": [
    {
     "name": "stdout",
     "output_type": "stream",
     "text": [
      "elements in alpha order:  ['Aluminum', 'Argon', 'Beryllium', 'Boron', 'Calcium', 'Carbon', 'Chlorine', 'Fluorine', 'Helium', 'Hydrogen', 'Lithium', 'Magnesium', 'Neon', 'Nitrogen', 'Oxygen', 'Phosphorus', 'Potassium', 'Silicon', 'Sodium', 'Sulfur']\n"
     ]
    }
   ],
   "source": [
    "# .sort() and sorted()\n",
    "# [ ] sort the list element, so names are in alphabetical order and print elements\n",
    "elements = ['Hydrogen', 'Helium', 'Lithium', 'Beryllium', 'Boron', 'Carbon', 'Nitrogen', 'Oxygen', 'Fluorine', \\\n",
    " 'Neon', 'Sodium', 'Magnesium', 'Aluminum', 'Silicon', 'Phosphorus', 'Sulfur', 'Chlorine', 'Argon', \\\n",
    " 'Potassium', 'Calcium']\n",
    "elements.sort()\n",
    "print(\"elements in alpha order: \", elements)"
   ]
  },
  {
   "cell_type": "code",
   "execution_count": 64,
   "metadata": {},
   "outputs": [
    {
     "name": "stdout",
     "output_type": "stream",
     "text": [
      "Original list : [2, 2, 2, 1, 2, 1, 3, 3, 1, 2, 2, 2, 2, 1, 3]\n",
      "sorted list: [1, 1, 1, 1, 2, 2, 2, 2, 2, 2, 2, 2, 3, 3, 3]\n"
     ]
    }
   ],
   "source": [
    "# [ ] print the list, numbers, sorted and then below print the original numbers list \n",
    "numbers = [2,2,2,1,2,1,3,3,1,2,2,2,2,1,3]\n",
    "nos_sorted = sorted(numbers)\n",
    "print(\"Original list :\", numbers)\n",
    "print(\"sorted list:\", nos_sorted)"
   ]
  },
  {
   "cell_type": "markdown",
   "metadata": {},
   "source": [
    "## Task 7 - .split()"
   ]
  },
  {
   "cell_type": "code",
   "execution_count": 66,
   "metadata": {},
   "outputs": [
    {
     "name": "stdout",
     "output_type": "stream",
     "text": [
      "DID\n",
      "YOU\n",
      "KNOW\n",
      "THAT\n",
      "THERE\n",
      "ARE\n",
      "1.4\n",
      "BILLION\n",
      "STUDENTS\n",
      "IN\n",
      "THE\n",
      "WORLD?\n"
     ]
    }
   ],
   "source": [
    "#onverting a string to a list with .split()\n",
    "# [ ] split the string, daily_fact, into a list of word strings: fact_words\n",
    "# [ ] print each string in fact_words in upper case on it's own line\n",
    "daily_fact = \"Did you know that there are 1.4 billion students in the world?\"\n",
    "fact_words = daily_fact.split()\n",
    "for words in fact_words:\n",
    "    print(words.upper())"
   ]
  },
  {
   "cell_type": "code",
   "execution_count": 68,
   "metadata": {},
   "outputs": [
    {
     "name": "stdout",
     "output_type": "stream",
     "text": [
      "The \n",
      "right \n",
      "rain, has \n",
      "ran!\n"
     ]
    }
   ],
   "source": [
    "# [ ] split poem on \"b\" to create a list: poem_words\n",
    "# [ ] print poem_words by iterating the list\n",
    "poem = \"The bright brain, has bran!\"\n",
    "poem_words = poem.split(\"b\")\n",
    "\n",
    "for words in poem_words:\n",
    "    print(words)\n",
    "    \n"
   ]
  },
  {
   "cell_type": "markdown",
   "metadata": {},
   "source": [
    "## Task 8 - .join() "
   ]
  },
  {
   "cell_type": "code",
   "execution_count": 74,
   "metadata": {},
   "outputs": [
    {
     "name": "stdout",
     "output_type": "stream",
     "text": [
      "list is : ['Chlorine', 'Florine', 'Bromine', 'Iodine']\n",
      "string is: Chlorine,Florine,Bromine,Iodine\n"
     ]
    }
   ],
   "source": [
    "#build a string from a list\n",
    "# [ ] print a comma separated string output from the list of Halogen elements using \".join()\"\n",
    "halogens = ['Chlorine', 'Florine', 'Bromine', 'Iodine']\n",
    "\n",
    "str_hal = \",\".join(halogens)\n",
    "print(\"list is :\", halogens)\n",
    "print(\"string is:\", str_hal)"
   ]
  },
  {
   "cell_type": "code",
   "execution_count": 88,
   "metadata": {},
   "outputs": [
    {
     "name": "stdout",
     "output_type": "stream",
     "text": [
      "words with no space: Readcodealoudorexplainthecodestepbysteptoapeer\n",
      "['READ', 'CODE', 'ALOUD', 'OR', 'EXPLAIN', 'THE', 'CODE', 'STEP', 'BY', 'STEP', 'TO', 'A', 'PEER']\n",
      "list as a string:  READCODEALOUDOREXPLAINTHECODESTEPBYSTEPTOAPEER\n"
     ]
    }
   ],
   "source": [
    "# [ ] split the sentence, code_tip, into a words list\n",
    "# [ ] print the joined words in the list with no spaces in-between\n",
    "# [ ] Bonus: capitalize each word in the list before .join()\n",
    "code_tip =\"Read code aloud or explain the code step by step to a peer\"\n",
    "\n",
    "code_words = code_tip.split()\n",
    "print(\"words with no space:\", \"\".join(code_words))\n",
    "code_WORDS = []\n",
    "\n",
    "for words in code_words:\n",
    "    #words2 = words.upper()\n",
    "    code_WORDS.append(words.upper())\n",
    "\n",
    "print(code_WORDS)\n",
    "print(\"list as a string: \",\"\".join(code_WORDS))"
   ]
  },
  {
   "cell_type": "code",
   "execution_count": 101,
   "metadata": {},
   "outputs": [
    {
     "name": "stdout",
     "output_type": "stream",
     "text": [
      "d\n",
      "e\n",
      "c\n",
      "e\n",
      "l\n",
      "e\n",
      "r\n",
      "a\n",
      "t\n",
      "i\n",
      "n\n",
      "g\n"
     ]
    }
   ],
   "source": [
    "#Cast a string to a list\n",
    "#print to the same line\n",
    "# [ ] cast the long_word into individual letters list \n",
    "# [ ] print each letter on a line\n",
    "long_word = 'decelerating'\n",
    "\n",
    "word_list = list(long_word)\n",
    "\n",
    "for word in word_list:\n",
    "    print(word)\n"
   ]
  },
  {
   "cell_type": "code",
   "execution_count": 103,
   "metadata": {},
   "outputs": [
    {
     "name": "stdout",
     "output_type": "stream",
     "text": [
      "What's the closest planet to the Sun?\n",
      "How deep do Dolphins swim?\n",
      "What time is it?\n"
     ]
    }
   ],
   "source": [
    "# [ ] use use end= in print to output each string in questions with a \"?\" and on new lines\n",
    "questions = [\"What's the closest planet to the Sun\", \"How deep do Dolphins swim\", \"What time is it\"]\n",
    "for q in questions:\n",
    "    print(q, end=\"?\\n\")\n",
    "    \n",
    "    "
   ]
  },
  {
   "cell_type": "code",
   "execution_count": 104,
   "metadata": {},
   "outputs": [
    {
     "name": "stdout",
     "output_type": "stream",
     "text": [
      "Calcaneus, Talus, Cuboid, Navicular, Lateral Cuneiform, Intermediate Cuneiform, Medial Cuneiform, "
     ]
    }
   ],
   "source": [
    "# [ ] print each item in foot bones \n",
    "#    - capitalized, both words if two word name\n",
    "#    - separated by a comma and space\n",
    "#    - and keeping on a single print line\n",
    "foot_bones = [\"calcaneus\", \"talus\", \"cuboid\", \"navicular\", \"lateral cuneiform\", \n",
    "            \"intermediate cuneiform\", \"medial cuneiform\"]\n",
    "\n",
    "for f in foot_bones:\n",
    "    print(f.title(), end=\", \")"
   ]
  }
 ],
 "metadata": {
  "kernelspec": {
   "display_name": "Python 3",
   "language": "python",
   "name": "python3"
  },
  "language_info": {
   "codemirror_mode": {
    "name": "ipython",
    "version": 3
   },
   "file_extension": ".py",
   "mimetype": "text/x-python",
   "name": "python",
   "nbconvert_exporter": "python",
   "pygments_lexer": "ipython3",
   "version": "3.6.5"
  }
 },
 "nbformat": 4,
 "nbformat_minor": 2
}
