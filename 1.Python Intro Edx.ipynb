{
 "cells": [
  {
   "cell_type": "markdown",
   "metadata": {},
   "source": [
    "Python Fundamentls"
   ]
  },
  {
   "cell_type": "code",
   "execution_count": 6,
   "metadata": {},
   "outputs": [
    {
     "data": {
      "text/plain": [
       "17"
      ]
     },
     "execution_count": 6,
     "metadata": {},
     "output_type": "execute_result"
    }
   ],
   "source": [
    "x = 2\n",
    "y = x+5+10\n",
    "y"
   ]
  },
  {
   "cell_type": "code",
   "execution_count": 9,
   "metadata": {},
   "outputs": [
    {
     "data": {
      "text/plain": [
       "'Intro to Python'"
      ]
     },
     "execution_count": 9,
     "metadata": {},
     "output_type": "execute_result"
    }
   ],
   "source": [
    "course_name = 'Intro to Python'\n",
    "course_name"
   ]
  },
  {
   "cell_type": "code",
   "execution_count": 14,
   "metadata": {},
   "outputs": [
    {
     "name": "stdout",
     "output_type": "stream",
     "text": [
      "Hurrah! the name starts with i: Intro to Python\n"
     ]
    }
   ],
   "source": [
    "if course_name[0].lower() == 'i':\n",
    "    print(\"Hurrah! the name starts with i:\", course_name)\n",
    "else:\n",
    "    print(\"hard luck!\")"
   ]
  },
  {
   "cell_type": "code",
   "execution_count": 22,
   "metadata": {},
   "outputs": [
    {
     "name": "stdout",
     "output_type": "stream",
     "text": [
      "n,o\n"
     ]
    }
   ],
   "source": [
    "print(course_name[-1]+\",\"+course_name[-2])"
   ]
  },
  {
   "cell_type": "code",
   "execution_count": 26,
   "metadata": {},
   "outputs": [
    {
     "name": "stdout",
     "output_type": "stream",
     "text": [
      "1:    slice student_name[2:5]: let\n",
      "2: index 2, 3 & 4 of student_name: let\n"
     ]
    }
   ],
   "source": [
    "student_name=\"Colette\"\n",
    "student_name\n",
    "print(\"1:    slice student_name[2:5]:\",student_name[2:5])\n",
    "print(\"2: index 2, 3 & 4 of student_name:\", student_name[2] + student_name[3] + student_name[4])"
   ]
  },
  {
   "cell_type": "code",
   "execution_count": 37,
   "metadata": {},
   "outputs": [
    {
     "name": "stdout",
     "output_type": "stream",
     "text": [
      "printing act: act:  and printing tic:  tic\n"
     ]
    }
   ],
   "source": [
    "long_word = \"characteristics\"\n",
    "print(\"printing act:\",long_word[4:7]+\":  and printing tic: \",long_word[-4]+long_word[-3]+long_word[-2])"
   ]
  },
  {
   "cell_type": "code",
   "execution_count": 40,
   "metadata": {},
   "outputs": [
    {
     "name": "stdout",
     "output_type": "stream",
     "text": [
      "sequence\n"
     ]
    }
   ],
   "source": [
    "long_word = \"Consequences\"\n",
    "print(long_word[3:11])"
   ]
  },
  {
   "cell_type": "code",
   "execution_count": 56,
   "metadata": {},
   "outputs": [
    {
     "name": "stdout",
     "output_type": "stream",
     "text": [
      "secneuqesnoC\n",
      "sceqso\n",
      "eun\n"
     ]
    }
   ],
   "source": [
    "print(long_word[::-1])\n",
    "print(long_word[-1::-2])\n",
    "print(long_word[-2::-4])"
   ]
  },
  {
   "cell_type": "code",
   "execution_count": 58,
   "metadata": {},
   "outputs": [
    {
     "name": "stdout",
     "output_type": "stream",
     "text": [
      "s\n",
      "e\n",
      "c\n",
      "n\n",
      "e\n",
      "u\n",
      "q\n",
      "e\n",
      "s\n",
      "n\n",
      "o\n",
      "C\n"
     ]
    }
   ],
   "source": [
    "for char in long_word[::-1]:\n",
    "    print(char)\n",
    "    "
   ]
  },
  {
   "cell_type": "code",
   "execution_count": 68,
   "metadata": {},
   "outputs": [
    {
     "name": "stdout",
     "output_type": "stream",
     "text": [
      "jxaoiin\n",
      "What is your favourite colourtest\n",
      "test::tes\n"
     ]
    }
   ],
   "source": [
    "long_word = \"juxtaposition\"\n",
    "other_word = long_word[::2]\n",
    "print(other_word)\n",
    "#print(long_word[::-1])\n",
    "fav_color = input(\"What is your favourite colour\")\n",
    "print(fav_color+\"::\"+fav_color[:-1])"
   ]
  },
  {
   "cell_type": "code",
   "execution_count": 72,
   "metadata": {},
   "outputs": [
    {
     "name": "stdout",
     "output_type": "stream",
     "text": [
      "find the first occurrence of space: 4 \n",
      "\n"
     ]
    }
   ],
   "source": [
    "work_tip = \"save your code\"\n",
    "print(\"find the first occurrence of space:\", work_tip.find(\" \"),\"\\n\")"
   ]
  },
  {
   "cell_type": "code",
   "execution_count": 83,
   "metadata": {},
   "outputs": [
    {
     "name": "stdout",
     "output_type": "stream",
     "text": [
      "good code has meaningful variables\n",
      "postion of the string 'code' in : 'good code has meaningful variables':: is 5\n"
     ]
    }
   ],
   "source": [
    "work_tip = \"good code has meaningful variables\"\n",
    "print(work_tip)\n",
    "\n",
    "code_here = work_tip.find(\"code\")\n",
    "print(\"postion of the string \"+\"'code'\"+\" in : \"+\"'\"+work_tip+\"'\"+\":: is\", code_here)"
   ]
  },
  {
   "cell_type": "code",
   "execution_count": 87,
   "metadata": {},
   "outputs": [
    {
     "name": "stdout",
     "output_type": "stream",
     "text": [
      "length of the string: wear a hat when it rains   is    : 24\n",
      "mid character of the string:   wear a hat when it rains    is    H\n",
      "first half of the string: wear a hat when it rains   is   : wear a hat w \n",
      " second half of the string is:  hen it rains\n"
     ]
    }
   ],
   "source": [
    "random_tip = \"wear a hat when it rains\"\n",
    "l1 = len(random_tip)\n",
    "mp = int(l1/2)\n",
    "print( \"length of the string: \"+random_tip+\"   is    :\",l1)\n",
    "print(\"mid character of the string:   \"+ random_tip+ \"    is   \", random_tip[mp].upper() )\n",
    "print(\"first half of the string: \"+ random_tip+\"   is   :\", random_tip[:mp], \"\\n\", \"second half of the string is: \",random_tip[mp:])"
   ]
  },
  {
   "cell_type": "code",
   "execution_count": 94,
   "metadata": {},
   "outputs": [
    {
     "name": "stdout",
     "output_type": "stream",
     "text": [
      "letter - e occurs: 2 times in     - wear a hat when it rains\n",
      "letter - a occurs: 4 times in     - wear a hat when it rains\n"
     ]
    }
   ],
   "source": [
    "e_count = 0\n",
    "a_count = 0\n",
    "\n",
    "for letter in random_tip:\n",
    "    if letter == 'e':\n",
    "        e_count +=1\n",
    "    elif letter == 'a':\n",
    "        a_count +=1\n",
    "        \n",
    "        \n",
    "print(\"letter - e occurs:\", e_count ,\"times in     -\",random_tip)\n",
    "print(\"letter - a occurs:\", a_count, \"times in     -\",random_tip)"
   ]
  },
  {
   "cell_type": "code",
   "execution_count": 103,
   "metadata": {},
   "outputs": [
    {
     "name": "stdout",
     "output_type": "stream",
     "text": [
      "they stumble who run fast\n",
      "they \n",
      "\n",
      "stumble who run fast\n",
      "stumble \n",
      "\n",
      "who run fast\n",
      "who \n",
      "\n",
      "run fast\n",
      "run \n",
      "\n",
      "fast\n",
      "fas \n",
      "\n"
     ]
    }
   ],
   "source": [
    "# print each word on a new line\n",
    "quote = \"they stumble who run fast\"\n",
    "\n",
    "start = 0\n",
    "pos = quote.find(\" \")\n",
    "\n",
    "while pos != -1:\n",
    "    print(quote)\n",
    "    pos = quote.find(\" \", start)\n",
    "    print(quote[:pos],\"\\n\")\n",
    "    quote = quote[pos+1:]\n",
    "    \n",
    " "
   ]
  },
  {
   "cell_type": "code",
   "execution_count": 106,
   "metadata": {},
   "outputs": [
    {
     "name": "stdout",
     "output_type": "stream",
     "text": [
      "second character in : Jupiter  is  :u\n",
      "first character in : Jupiter  is  :J\n",
      "first and last characters in : Jupiter  are  :J r\n",
      "first character in : Jupiter  is  :J\n"
     ]
    }
   ],
   "source": [
    "# assignment - practice - Task1 - Module 2\n",
    "planet_name = \"Jupiter\"\n",
    "print(\"second character in : \"+planet_name+\"  is  :\"+planet_name[1])\n",
    "print(\"first character in : \"+planet_name+\"  is  :\"+planet_name[0])\n",
    "print(\"first and last characters in : \"+planet_name+\"  are  :\"+planet_name[0],planet_name[-1] )\n",
    "print(\"first character in : \"+planet_name+\"  is  :\"+planet_name[-7])\n"
   ]
  },
  {
   "cell_type": "code",
   "execution_count": 110,
   "metadata": {},
   "outputs": [
    {
     "name": "stdout",
     "output_type": "stream",
     "text": [
      "Nep tune\n",
      "Python\n",
      "enutpeN\n"
     ]
    }
   ],
   "source": [
    "# assignment - practice - Task2 - Module 2 - slicing\n",
    "#sliced into the first 3 characters and remaining characters\n",
    "planet_name = \"Neptune\"\n",
    "print(planet_name[:3], planet_name[3:])\n",
    "\n",
    "# [ ] print 1st char and then every 3rd char of wise_words\n",
    "# use string slice with a step\n",
    "wise_words = 'Play it who opens'\n",
    "print(wise_words[::3])\n",
    "\n",
    "# [ ] print planet_name in reverse\n",
    "print(planet_name[::-1])"
   ]
  },
  {
   "cell_type": "code",
   "execution_count": null,
   "metadata": {},
   "outputs": [],
   "source": [
    "# assignment - practice - Task3 - Module 2 - string iteration\n",
    "# [ ] Get user input for 1 fav_food\n",
    "# [ ] iterate through letters in fav_food \n",
    "#    - print each letter on a new line\n",
    "\n",
    "fav_food = input(\"what is your favourite food\")\n",
    "for ltr in fav_food:\n",
    "    print(ltr,\"\\n\")\n",
    "    \n",
    "# [ ] iterate work_tip string concatenate each letter to variable: new_string \n",
    "# [ ] concatenate the letter or a \"-\" instead of a space \" \"\n",
    "# tip: concatenate string example: word = word + \"a\"\n",
    "work_tip = \"Good code is commented code\"\n",
    "new_string = \"\"\n",
    "\n",
    "for ltr in work_tip:\n",
    "    if ltr == \" \":\n",
    "        new_string = new_string +\"-\"\n",
    "    else:\n",
    "        new_string = new_string + ltr\n",
    "    \n",
    "print(work_tip)\n",
    "print(new_string)"
   ]
  },
  {
   "cell_type": "code",
   "execution_count": null,
   "metadata": {},
   "outputs": [],
   "source": []
  }
 ],
 "metadata": {
  "kernelspec": {
   "display_name": "Python 3",
   "language": "python",
   "name": "python3"
  },
  "language_info": {
   "codemirror_mode": {
    "name": "ipython",
    "version": 3
   },
   "file_extension": ".py",
   "mimetype": "text/x-python",
   "name": "python",
   "nbconvert_exporter": "python",
   "pygments_lexer": "ipython3",
   "version": "3.6.5"
  }
 },
 "nbformat": 4,
 "nbformat_minor": 1
}
