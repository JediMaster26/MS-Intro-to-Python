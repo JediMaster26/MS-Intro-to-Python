{
 "cells": [
  {
   "cell_type": "code",
   "execution_count": 4,
   "metadata": {},
   "outputs": [
    {
     "name": "stdout",
     "output_type": "stream",
     "text": [
      "enter firstnameMahesh\n",
      "you entered: Mahesh\n",
      "Encryptd as : hs?h?M\n"
     ]
    }
   ],
   "source": [
    "first_name = input(\"enter firstname\")\n",
    "new_name=\"\"\n",
    "\n",
    "for ltr in first_name[::-1]:\n",
    "    if ltr == 'a':\n",
    "        new_name = new_name + '?'\n",
    "    elif ltr == 'e':\n",
    "        new_name = new_name + '?'\n",
    "    elif ltr == 't':\n",
    "        new_name = new_name + '?'\n",
    "    else:\n",
    "        new_name = new_name+ltr\n",
    "        \n",
    "        \n",
    "print(\"you entered:\", first_name)\n",
    "print(\"Encryptd as :\", new_name)"
   ]
  },
  {
   "cell_type": "code",
   "execution_count": 48,
   "metadata": {},
   "outputs": [
    {
     "name": "stdout",
     "output_type": "stream",
     "text": [
      "lenth of topic is - : 37\n",
      "mid point index of : .len() returns the length of a string    : is    18\n",
      "first instance of code in  Good code is commented code :  is  : 5\n",
      "23\n",
      "number times 'o' occurred in  Good code is commented code    is : 5\n",
      "number times 'w' occurred in  Good code is commented code    is : 0\n",
      "number times 'code' occurred in  Good code is commented code    is : 2\n"
     ]
    }
   ],
   "source": [
    "# [ ] find and display the length of the string: topic\n",
    "topic = \".len() returns the length of a string\"\n",
    "\n",
    "# [ ] use len() to find and display the mid_pt (middle) index (+/- 1) of the string: topic\n",
    "# note: index values are whole numbers\n",
    "print(\"lenth of topic is - :\", len(topic))\n",
    "strlen = len(topic)\n",
    "mid_pt = int(strlen/2)\n",
    "print(\"mid point index of :\",topic,\"   : is   \",mid_pt)\n",
    "\n",
    "# [ ] print index where first instance of the word  \"code\" starts using .find()\n",
    "work_tip = \"Good code is commented code\"\n",
    "print(\"first instance of \"'code'\" in \", work_tip, \":  is  :\", work_tip.find(\"code\"))\n",
    "\n",
    "# [ ] search for \"code\" in code_tip using .find() \n",
    "# [ ] search substring with substring index start= 13,end = last char \n",
    "# [ ] save result in variable: code_index\n",
    "# [ ] display index of where \"code\" is found, or print \"not found\" if code_index == -1\n",
    "work_tip = \"Good code is commented code\"\n",
    "\n",
    "code_index = work_tip.find(\"code\",13)\n",
    "\n",
    "if code_index == -1:\n",
    "    print(\"not found\")\n",
    "else:\n",
    "    print(code_index)\n",
    "    \n",
    "# [ ] find and report (print) number of w's, o's + use of word \"code\"\n",
    "work_tip = \"Good code is commented code\"\n",
    "o_count = work_tip.count(\"o\")\n",
    "w_count = work_tip.count(\"w\")\n",
    "code_count = work_tip.count(\"code\")\n",
    "print(\"number times 'o' occurred in \",work_tip, \"   is :\", o_count)\n",
    "print(\"number times 'w' occurred in \",work_tip, \"   is :\", w_count)\n",
    "print(\"number times 'code' occurred in \",work_tip, \"   is :\", code_count)\n",
    "\n",
    "\n",
    "    "
   ]
  },
  {
   "cell_type": "code",
   "execution_count": 47,
   "metadata": {},
   "outputs": [
    {
     "name": "stdout",
     "output_type": "stream",
     "text": [
      "number of times 'i' appears in the string:   code a conditional decision like you would say it    is:   6 \n",
      "\n",
      "0 . position of i  11\n",
      "1 . position of i  13\n",
      "2 . position of i  22\n",
      "3 . position of i  24\n",
      "4 . position of i  29\n",
      "5 . position of i  47\n",
      "6 . position of i  -1\n"
     ]
    }
   ],
   "source": [
    "# [ ]  count times letter \"i\" appears in code_tip string\n",
    "# [ ] find and display the index of all the letter i's in code_tip\n",
    "# Remember: if .find(\"i\") has No Match, -1 is returned\n",
    "code_tip = \"code a conditional decision like you would say it\"\n",
    "print(\"number of times 'i' appears in the string:  \",code_tip,\"   is:  \", code_tip.count(\"i\"),\"\\n\")\n",
    "\n",
    "i_pos = 0\n",
    "i_count = 0\n",
    "new_string = code_tip\n",
    "pos = 0\n",
    "\n",
    "while i_pos != -1:\n",
    "    #print(new_string)\n",
    "    i_pos = new_string.find(\"i\",pos+1)\n",
    "    pos = i_pos\n",
    "    print(i_count,\". position of i \", i_pos)\n",
    "    i_count += 1\n",
    "   # new_string = new_string[pos:]\n",
    "        \n",
    "        \n",
    "    "
   ]
  }
 ],
 "metadata": {
  "kernelspec": {
   "display_name": "Python 3",
   "language": "python",
   "name": "python3"
  },
  "language_info": {
   "codemirror_mode": {
    "name": "ipython",
    "version": 3
   },
   "file_extension": ".py",
   "mimetype": "text/x-python",
   "name": "python",
   "nbconvert_exporter": "python",
   "pygments_lexer": "ipython3",
   "version": "3.6.5"
  }
 },
 "nbformat": 4,
 "nbformat_minor": 2
}
