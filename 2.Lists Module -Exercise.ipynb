{
 "cells": [
  {
   "cell_type": "code",
   "execution_count": 17,
   "metadata": {},
   "outputs": [
    {
     "name": "stdout",
     "output_type": "stream",
     "text": [
      "Days of Week are : ['Sunday', 'Monday', 'Tuesday', 'Wednesday ', 'Thursday', 'Friday ', 'Saturday']\n",
      "['Monday', 'Wednesday ', 'Friday ']\n",
      "Tuesday\n",
      "['Sunday', 'Monday', 'Tuesday', 'Wednesday ', 'Thursday', 'Friday ', 'Saturday', 'Caturday']\n",
      "['Sunday', 'Monday', 'Tuesday', 'Wednesday ', 'Tulipday', 'Thursday', 'Friday ', 'Saturday', 'Caturday']\n",
      "['Sunday', 'Monday', 'Tuesday', 'Wednesday ', 'Tulipday', 'Thursday', 'Friday ', 'Saturday']\n"
     ]
    }
   ],
   "source": [
    "# [ ] create and populate list called days_of_week then print it\n",
    "\n",
    "days_of_week = [\"Sunday\",\"Monday\",\"Tuesday\",\"Wednesday \",\"Thursday\",\"Friday \",\"Saturday\"]\n",
    "\n",
    "print(\"Days of Week are :\" , days_of_week)\n",
    "\n",
    "# [ ] after days_of_week is run above, print the days in the list at odd indexes 1,3,5\n",
    "print(days_of_week[1::2])\n",
    "\n",
    "# [ ] create a variable: day, assign day to \"Tuesday\" using days_of_week[]\n",
    "# [ ] print day variable\n",
    "\n",
    "day = days_of_week[2]\n",
    "print(day)\n",
    "\n",
    "# PART 2\n",
    "# [ ] assign day to days_of_week index = 5\n",
    "# [ ] print day\n",
    "day = days_of_week[5]\n",
    "\n",
    "# [ ] Make up a new day! - append an 8th day of the week to days_of_week \n",
    "# [ ] print days_of_week\n",
    "\n",
    "days_of_week.append(\"Caturday\")\n",
    "print(days_of_week)\n",
    "\n",
    "# [ ] Make up another new day - insert a new day into the middle of days_of_week between Wed - Thurs\n",
    "# [ ] print days_of_week\n",
    "days_of_week.insert(4,\"Tulipday\")\n",
    "print(days_of_week)\n",
    "days_of_week.pop()\n",
    "print(days_of_week)"
   ]
  },
  {
   "cell_type": "code",
   "execution_count": 18,
   "metadata": {},
   "outputs": [
    {
     "name": "stdout",
     "output_type": "stream",
     "text": [
      "[' ', '', ['A', 'B', 'C'], ['D', 'E', 'F'], ['G', 'H', 'I'], ['J', 'K', 'L'], ['M', 'N', 'O'], ['P', 'Q', 'R', 'S'], ['T', 'U', 'V'], ['W', 'X', 'Y', 'Z']]\n"
     ]
    }
   ],
   "source": [
    "# [ ] create and populate list called phone_letters then print it\n",
    "# Create a list, phone_letters, where the index 0 - 9 contains the letters for keys 0 - 9.\n",
    "\n",
    "#0 = ' ' (a space)\n",
    "#1 = '' (empty)\n",
    "#2 = 'ABC'\n",
    "#3 = 'DEF'\n",
    "#etc...\n",
    "\n",
    "phone_letters = [' ','',['A','B','C'],['D','E','F'],['G','H','I'],['J','K','L'],['M','N','O'],['P','Q','R','S'],['T','U','V'],['W','X','Y','Z'] ]\n",
    "print(phone_letters)"
   ]
  },
  {
   "cell_type": "code",
   "execution_count": 25,
   "metadata": {},
   "outputs": [
    {
     "name": "stdout",
     "output_type": "stream",
     "text": [
      "['Sunday', 'Monday', 'Tuesday', 'Wednesday ', 'Tulipday', 'Thursday', 'Friday ', 'Saturday']\n",
      "['Sunday', 'Monday', 'Tuesday', 'Wednesday ', 'Tulipday', 'Thursday', 'Friday ']\n"
     ]
    }
   ],
   "source": [
    "print(days_of_week)\n",
    "#days_of_week.append(\"Caturday\")\n",
    "#print(days_of_week)\n",
    "days_of_week.pop()\n",
    "print(days_of_week)\n"
   ]
  },
  {
   "cell_type": "code",
   "execution_count": 33,
   "metadata": {},
   "outputs": [
    {
     "name": "stdout",
     "output_type": "stream",
     "text": [
      "['Sunday', 'Monday', 'Tuesday', 'Wednesday ', 'Thursday', 'Boxingday', 'Friday ', 'Saturday']\n",
      "['Sunday', 'Monday', 'Tuesday', 'Wednesday ', 'Thursday', 'Friday ', 'Saturday']\n"
     ]
    }
   ],
   "source": [
    "\n",
    "# [ ] print days_of_week \n",
    "# [ ] delete (del) the new day added to the middle of the week \n",
    "# [ ] print days_of_week\n",
    "#days_of_week.remove(\"Tulipday\")\n",
    "#print(days_of_week)\n",
    "days_of_week = [\"Sunday\",\"Monday\",\"Tuesday\",\"Wednesday \",\"Thursday\",\"Friday \",\"Saturday\"]\n",
    "days_of_week.insert(5,\"Boxingday\")\n",
    "print(days_of_week)\n",
    "del days_of_week[5]\n",
    "print(days_of_week)"
   ]
  },
  {
   "cell_type": "code",
   "execution_count": 61,
   "metadata": {},
   "outputs": [
    {
     "name": "stdout",
     "output_type": "stream",
     "text": [
      "Entar a letter, space or null character7\n",
      "letter : 7 ::: not found\n"
     ]
    }
   ],
   "source": [
    "#create function let_to_num()\n",
    "#let_to_num() takes input of a single letter, space or empty string stored in an argument variable: letter\n",
    "#use while key < 10: to try numbers 0 - 9 as index for phone_letters (\"key\" = phone dial pad key)\n",
    "#check if letter variable is in the index of phone_letters[key]\n",
    "\n",
    "phone_letters = [' ','',['A','B','C'],['D','E','F'],['G','H','I'],['J','K','L'],['M','N','O'],['P','Q','R','S'],['T','U','V'],['W','X','Y','Z'] ]\n",
    "\n",
    "\n",
    "def let_to_num(letter):\n",
    "    key = 0\n",
    "    while key < 10:\n",
    "        #print(key)\n",
    "        element = phone_letters[key]\n",
    "        #print(element)\n",
    "        if letter.upper() in element:\n",
    "            return key\n",
    "        else:\n",
    "            key +=1\n",
    "    return \"not found\"        \n",
    "            \n",
    "letter = input(\"Entar a letter, space or null character\")\n",
    "key = let_to_num(letter)\n",
    "print('letter :',letter,\":::\",key)\n",
    "        \n",
    "    "
   ]
  },
  {
   "cell_type": "code",
   "execution_count": 63,
   "metadata": {},
   "outputs": [
    {
     "name": "stdout",
     "output_type": "stream",
     "text": [
      "before pop [1, 2, 3, 4, 5, 6, 7, 8, 9, 11, 22, 33, 44, 55, 66, 77]\n",
      "reversed [77, 66, 55, 44, 33, 22, 11, 9, 8, 7, 6, 5, 4, 3, 2, 1]\n"
     ]
    }
   ],
   "source": [
    "# [ ] Challenge: write the code for \"reverse a string\" reversing some_numbers\n",
    "some_numbers =[1,2,3,4,5,6,7,8,9,11,22,33,44,55,66,77]\n",
    "print('before pop', some_numbers)\n",
    "\n",
    "new_list = []\n",
    "while some_numbers:\n",
    "    pop1 = some_numbers.pop()\n",
    "    new_list.append(pop1)\n",
    "\n",
    "print('reversed', new_list)\n",
    "    "
   ]
  },
  {
   "cell_type": "code",
   "execution_count": 1,
   "metadata": {},
   "outputs": [
    {
     "name": "stdout",
     "output_type": "stream",
     "text": [
      "Enter a city Name OR Quit to end\n",
      "Newcastle is popped from list\n",
      "Enter a city Name OR Quit to end\n",
      "New Orleans is popped from list\n",
      "Enter a city Name OR Quit to end\n",
      "New Delhi is popped from list\n",
      "Enter a city Name OR Quit to end\n",
      "New York is popped from list\n",
      "City List is : []\n"
     ]
    }
   ],
   "source": [
    "# Module 2 Assignment\n",
    "\n",
    "def list_o_matic(list_in, string_in):\n",
    "    msg = ''\n",
    "    if len(string_in) == 0:\n",
    "        pop_city = list_in.pop()\n",
    "        msg = pop_city +' is popped from list'\n",
    "        return msg\n",
    "    else:\n",
    "        if string_in in list_in:\n",
    "            list_in.remove(string_in)\n",
    "            msg = string_in +' is popped from list'\n",
    "            return msg\n",
    "        else:\n",
    "            list_in.append(string_in)\n",
    "            msg = string_in +' is added to the list'\n",
    "            return msg\n",
    "                    \n",
    "            \n",
    "city_list_N = ['New York','New Delhi','New Orleans','Newcastle']\n",
    "\n",
    "while city_list_N:\n",
    "    new_city = input(\"Enter a city Name OR Quit to end\")\n",
    "    ret_msg = ''\n",
    "    if new_city != 'Quit':\n",
    "        ret_msg = list_o_matic(city_list_N, new_city)\n",
    "        print(ret_msg)\n",
    "    else:\n",
    "        print(\"nothing to do!!\")\n",
    "        break\n",
    "        \n",
    "        \n",
    "print(\"City List is :\", city_list_N)\n",
    "\n"
   ]
  }
 ],
 "metadata": {
  "kernelspec": {
   "display_name": "Python 3",
   "language": "python",
   "name": "python3"
  },
  "language_info": {
   "codemirror_mode": {
    "name": "ipython",
    "version": 3
   },
   "file_extension": ".py",
   "mimetype": "text/x-python",
   "name": "python",
   "nbconvert_exporter": "python",
   "pygments_lexer": "ipython3",
   "version": "3.6.5"
  }
 },
 "nbformat": 4,
 "nbformat_minor": 2
}
